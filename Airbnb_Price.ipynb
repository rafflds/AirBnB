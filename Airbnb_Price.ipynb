{
  "nbformat": 4,
  "nbformat_minor": 0,
  "metadata": {
    "colab": {
      "provenance": [],
      "include_colab_link": true
    },
    "kernelspec": {
      "name": "python3",
      "display_name": "Python 3"
    },
    "language_info": {
      "name": "python"
    }
  },
  "cells": [
    {
      "cell_type": "markdown",
      "metadata": {
        "id": "view-in-github",
        "colab_type": "text"
      },
      "source": [
        "<a href=\"https://colab.research.google.com/github/rafflds/AirBnB/blob/main/Airbnb_Price.ipynb\" target=\"_parent\"><img src=\"https://colab.research.google.com/assets/colab-badge.svg\" alt=\"Open In Colab\"/></a>"
      ]
    },
    {
      "cell_type": "markdown",
      "source": [
        "## Descrição do Dataset\n",
        "\n",
        "**Arquivo: vienna_weekdays.csv**\n",
        "\n",
        "* realSum \tO preço total do anúncio do Airbnb. (Numérico)\n",
        "* tipo de sala \tO tipo de quarto oferecido (por exemplo, quarto privado, quarto compartilhado, casa inteira/apto). (Categórico)\n",
        "* quarto_compartilhado \tSe o quarto é compartilhado ou não. (Boleano)\n",
        "* quarto_privado \tSe o quarto é privado ou não. (Boleano)\n",
        "* person_capacity \tO número máximo de pessoas que podem ser acomodadas em um único anúncio. (Numérico)\n",
        "* host_is_superhost \tSe um determinado host é ou não identificado como superhost no Airbnb. (Boleano)\n",
        "* multi \tSe vários quartos são fornecidos em uma listagem individual ou não. (Boleano)\n",
        "* nós \tSe uma listagem específica oferece instalações de negócios, como área de reunião/salas de conferência, além de opções de acomodação. (Boleano)\n",
        "* classificação_limpeza \tA classificação associada à limpeza de uma propriedade individual depois que os hóspedes se hospedam nela. (Numérico)\n",
        "* guest_satisfaction_overall \tA classificação geral que mostra o grau de satisfação dos hóspedes com a estadia depois de visitar uma propriedade do Airbnb. (Numérico)\n",
        "* quartos de dormir \tA quantidade total de quartos disponíveis entre todas as propriedades em um único ID de hospedagem. (Numérico)\n",
        "* dist. \tDistância do centro da cidade associada a cada propriedade alugada. (A medição pode variar dependendo da escala, por exemplo, quilômetros/milhas, etc.)\n",
        "* metro_dist \tDistância da estação de metrô associada a cada propriedade alugada. (A medição pode variar dependendo da escala, por exemplo, quilômetros/milhas, etc.)\n",
        "* lng \tMedição da longitude correspondente a cada unidade alugada. (Numérico)\n",
        "anos \t\n",
        "* Medição da latitude correspondente a cada unidade de aluguel. (Numérico) "
      ],
      "metadata": {
        "id": "vo6read8FHeD"
      }
    },
    {
      "cell_type": "markdown",
      "source": [
        "# Imports"
      ],
      "metadata": {
        "id": "qbLQ6rH6H6cr"
      }
    },
    {
      "cell_type": "code",
      "execution_count": null,
      "metadata": {
        "id": "nFaEa0ZfE-CQ"
      },
      "outputs": [],
      "source": [
        "import pandas as pd\n",
        "import seaborn as sns\n",
        "import matplotlib.pyplot as plt"
      ]
    },
    {
      "cell_type": "markdown",
      "source": [
        "# Leitura do dataset"
      ],
      "metadata": {
        "id": "Z0lVYer1H8c5"
      }
    },
    {
      "cell_type": "code",
      "source": [
        "df = pd.read_csv('amsterdam_weekdays.csv')\n",
        "df.head()"
      ],
      "metadata": {
        "colab": {
          "base_uri": "https://localhost:8080/",
          "height": 374
        },
        "id": "Ny1L3aZkFLFa",
        "outputId": "c4e0c872-1c25-48bc-be63-ab2a029a7b95"
      },
      "execution_count": null,
      "outputs": [
        {
          "output_type": "execute_result",
          "data": {
            "text/plain": [
              "   Unnamed: 0     realSum     room_type  room_shared  room_private  \\\n",
              "0           0  194.033698  Private room        False          True   \n",
              "1           1  344.245776  Private room        False          True   \n",
              "2           2  264.101422  Private room        False          True   \n",
              "3           3  433.529398  Private room        False          True   \n",
              "4           4  485.552926  Private room        False          True   \n",
              "\n",
              "   person_capacity  host_is_superhost  multi  biz  cleanliness_rating  \\\n",
              "0              2.0              False      1    0                10.0   \n",
              "1              4.0              False      0    0                 8.0   \n",
              "2              2.0              False      0    1                 9.0   \n",
              "3              4.0              False      0    1                 9.0   \n",
              "4              2.0               True      0    0                10.0   \n",
              "\n",
              "   guest_satisfaction_overall  bedrooms      dist  metro_dist  attr_index  \\\n",
              "0                        93.0         1  5.022964    2.539380   78.690379   \n",
              "1                        85.0         1  0.488389    0.239404  631.176378   \n",
              "2                        87.0         1  5.748312    3.651621   75.275877   \n",
              "3                        90.0         2  0.384862    0.439876  493.272534   \n",
              "4                        98.0         1  0.544738    0.318693  552.830324   \n",
              "\n",
              "   attr_index_norm  rest_index  rest_index_norm      lng       lat  \n",
              "0         4.166708   98.253896         6.846473  4.90569  52.41772  \n",
              "1        33.421209  837.280757        58.342928  4.90005  52.37432  \n",
              "2         3.985908   95.386955         6.646700  4.97512  52.36103  \n",
              "3        26.119108  875.033098        60.973565  4.89417  52.37663  \n",
              "4        29.272733  815.305740        56.811677  4.90051  52.37508  "
            ],
            "text/html": [
              "\n",
              "  <div id=\"df-8623c872-bb0b-4e6d-8a99-8cbb4a79fb50\">\n",
              "    <div class=\"colab-df-container\">\n",
              "      <div>\n",
              "<style scoped>\n",
              "    .dataframe tbody tr th:only-of-type {\n",
              "        vertical-align: middle;\n",
              "    }\n",
              "\n",
              "    .dataframe tbody tr th {\n",
              "        vertical-align: top;\n",
              "    }\n",
              "\n",
              "    .dataframe thead th {\n",
              "        text-align: right;\n",
              "    }\n",
              "</style>\n",
              "<table border=\"1\" class=\"dataframe\">\n",
              "  <thead>\n",
              "    <tr style=\"text-align: right;\">\n",
              "      <th></th>\n",
              "      <th>Unnamed: 0</th>\n",
              "      <th>realSum</th>\n",
              "      <th>room_type</th>\n",
              "      <th>room_shared</th>\n",
              "      <th>room_private</th>\n",
              "      <th>person_capacity</th>\n",
              "      <th>host_is_superhost</th>\n",
              "      <th>multi</th>\n",
              "      <th>biz</th>\n",
              "      <th>cleanliness_rating</th>\n",
              "      <th>guest_satisfaction_overall</th>\n",
              "      <th>bedrooms</th>\n",
              "      <th>dist</th>\n",
              "      <th>metro_dist</th>\n",
              "      <th>attr_index</th>\n",
              "      <th>attr_index_norm</th>\n",
              "      <th>rest_index</th>\n",
              "      <th>rest_index_norm</th>\n",
              "      <th>lng</th>\n",
              "      <th>lat</th>\n",
              "    </tr>\n",
              "  </thead>\n",
              "  <tbody>\n",
              "    <tr>\n",
              "      <th>0</th>\n",
              "      <td>0</td>\n",
              "      <td>194.033698</td>\n",
              "      <td>Private room</td>\n",
              "      <td>False</td>\n",
              "      <td>True</td>\n",
              "      <td>2.0</td>\n",
              "      <td>False</td>\n",
              "      <td>1</td>\n",
              "      <td>0</td>\n",
              "      <td>10.0</td>\n",
              "      <td>93.0</td>\n",
              "      <td>1</td>\n",
              "      <td>5.022964</td>\n",
              "      <td>2.539380</td>\n",
              "      <td>78.690379</td>\n",
              "      <td>4.166708</td>\n",
              "      <td>98.253896</td>\n",
              "      <td>6.846473</td>\n",
              "      <td>4.90569</td>\n",
              "      <td>52.41772</td>\n",
              "    </tr>\n",
              "    <tr>\n",
              "      <th>1</th>\n",
              "      <td>1</td>\n",
              "      <td>344.245776</td>\n",
              "      <td>Private room</td>\n",
              "      <td>False</td>\n",
              "      <td>True</td>\n",
              "      <td>4.0</td>\n",
              "      <td>False</td>\n",
              "      <td>0</td>\n",
              "      <td>0</td>\n",
              "      <td>8.0</td>\n",
              "      <td>85.0</td>\n",
              "      <td>1</td>\n",
              "      <td>0.488389</td>\n",
              "      <td>0.239404</td>\n",
              "      <td>631.176378</td>\n",
              "      <td>33.421209</td>\n",
              "      <td>837.280757</td>\n",
              "      <td>58.342928</td>\n",
              "      <td>4.90005</td>\n",
              "      <td>52.37432</td>\n",
              "    </tr>\n",
              "    <tr>\n",
              "      <th>2</th>\n",
              "      <td>2</td>\n",
              "      <td>264.101422</td>\n",
              "      <td>Private room</td>\n",
              "      <td>False</td>\n",
              "      <td>True</td>\n",
              "      <td>2.0</td>\n",
              "      <td>False</td>\n",
              "      <td>0</td>\n",
              "      <td>1</td>\n",
              "      <td>9.0</td>\n",
              "      <td>87.0</td>\n",
              "      <td>1</td>\n",
              "      <td>5.748312</td>\n",
              "      <td>3.651621</td>\n",
              "      <td>75.275877</td>\n",
              "      <td>3.985908</td>\n",
              "      <td>95.386955</td>\n",
              "      <td>6.646700</td>\n",
              "      <td>4.97512</td>\n",
              "      <td>52.36103</td>\n",
              "    </tr>\n",
              "    <tr>\n",
              "      <th>3</th>\n",
              "      <td>3</td>\n",
              "      <td>433.529398</td>\n",
              "      <td>Private room</td>\n",
              "      <td>False</td>\n",
              "      <td>True</td>\n",
              "      <td>4.0</td>\n",
              "      <td>False</td>\n",
              "      <td>0</td>\n",
              "      <td>1</td>\n",
              "      <td>9.0</td>\n",
              "      <td>90.0</td>\n",
              "      <td>2</td>\n",
              "      <td>0.384862</td>\n",
              "      <td>0.439876</td>\n",
              "      <td>493.272534</td>\n",
              "      <td>26.119108</td>\n",
              "      <td>875.033098</td>\n",
              "      <td>60.973565</td>\n",
              "      <td>4.89417</td>\n",
              "      <td>52.37663</td>\n",
              "    </tr>\n",
              "    <tr>\n",
              "      <th>4</th>\n",
              "      <td>4</td>\n",
              "      <td>485.552926</td>\n",
              "      <td>Private room</td>\n",
              "      <td>False</td>\n",
              "      <td>True</td>\n",
              "      <td>2.0</td>\n",
              "      <td>True</td>\n",
              "      <td>0</td>\n",
              "      <td>0</td>\n",
              "      <td>10.0</td>\n",
              "      <td>98.0</td>\n",
              "      <td>1</td>\n",
              "      <td>0.544738</td>\n",
              "      <td>0.318693</td>\n",
              "      <td>552.830324</td>\n",
              "      <td>29.272733</td>\n",
              "      <td>815.305740</td>\n",
              "      <td>56.811677</td>\n",
              "      <td>4.90051</td>\n",
              "      <td>52.37508</td>\n",
              "    </tr>\n",
              "  </tbody>\n",
              "</table>\n",
              "</div>\n",
              "      <button class=\"colab-df-convert\" onclick=\"convertToInteractive('df-8623c872-bb0b-4e6d-8a99-8cbb4a79fb50')\"\n",
              "              title=\"Convert this dataframe to an interactive table.\"\n",
              "              style=\"display:none;\">\n",
              "        \n",
              "  <svg xmlns=\"http://www.w3.org/2000/svg\" height=\"24px\"viewBox=\"0 0 24 24\"\n",
              "       width=\"24px\">\n",
              "    <path d=\"M0 0h24v24H0V0z\" fill=\"none\"/>\n",
              "    <path d=\"M18.56 5.44l.94 2.06.94-2.06 2.06-.94-2.06-.94-.94-2.06-.94 2.06-2.06.94zm-11 1L8.5 8.5l.94-2.06 2.06-.94-2.06-.94L8.5 2.5l-.94 2.06-2.06.94zm10 10l.94 2.06.94-2.06 2.06-.94-2.06-.94-.94-2.06-.94 2.06-2.06.94z\"/><path d=\"M17.41 7.96l-1.37-1.37c-.4-.4-.92-.59-1.43-.59-.52 0-1.04.2-1.43.59L10.3 9.45l-7.72 7.72c-.78.78-.78 2.05 0 2.83L4 21.41c.39.39.9.59 1.41.59.51 0 1.02-.2 1.41-.59l7.78-7.78 2.81-2.81c.8-.78.8-2.07 0-2.86zM5.41 20L4 18.59l7.72-7.72 1.47 1.35L5.41 20z\"/>\n",
              "  </svg>\n",
              "      </button>\n",
              "      \n",
              "  <style>\n",
              "    .colab-df-container {\n",
              "      display:flex;\n",
              "      flex-wrap:wrap;\n",
              "      gap: 12px;\n",
              "    }\n",
              "\n",
              "    .colab-df-convert {\n",
              "      background-color: #E8F0FE;\n",
              "      border: none;\n",
              "      border-radius: 50%;\n",
              "      cursor: pointer;\n",
              "      display: none;\n",
              "      fill: #1967D2;\n",
              "      height: 32px;\n",
              "      padding: 0 0 0 0;\n",
              "      width: 32px;\n",
              "    }\n",
              "\n",
              "    .colab-df-convert:hover {\n",
              "      background-color: #E2EBFA;\n",
              "      box-shadow: 0px 1px 2px rgba(60, 64, 67, 0.3), 0px 1px 3px 1px rgba(60, 64, 67, 0.15);\n",
              "      fill: #174EA6;\n",
              "    }\n",
              "\n",
              "    [theme=dark] .colab-df-convert {\n",
              "      background-color: #3B4455;\n",
              "      fill: #D2E3FC;\n",
              "    }\n",
              "\n",
              "    [theme=dark] .colab-df-convert:hover {\n",
              "      background-color: #434B5C;\n",
              "      box-shadow: 0px 1px 3px 1px rgba(0, 0, 0, 0.15);\n",
              "      filter: drop-shadow(0px 1px 2px rgba(0, 0, 0, 0.3));\n",
              "      fill: #FFFFFF;\n",
              "    }\n",
              "  </style>\n",
              "\n",
              "      <script>\n",
              "        const buttonEl =\n",
              "          document.querySelector('#df-8623c872-bb0b-4e6d-8a99-8cbb4a79fb50 button.colab-df-convert');\n",
              "        buttonEl.style.display =\n",
              "          google.colab.kernel.accessAllowed ? 'block' : 'none';\n",
              "\n",
              "        async function convertToInteractive(key) {\n",
              "          const element = document.querySelector('#df-8623c872-bb0b-4e6d-8a99-8cbb4a79fb50');\n",
              "          const dataTable =\n",
              "            await google.colab.kernel.invokeFunction('convertToInteractive',\n",
              "                                                     [key], {});\n",
              "          if (!dataTable) return;\n",
              "\n",
              "          const docLinkHtml = 'Like what you see? Visit the ' +\n",
              "            '<a target=\"_blank\" href=https://colab.research.google.com/notebooks/data_table.ipynb>data table notebook</a>'\n",
              "            + ' to learn more about interactive tables.';\n",
              "          element.innerHTML = '';\n",
              "          dataTable['output_type'] = 'display_data';\n",
              "          await google.colab.output.renderOutput(dataTable, element);\n",
              "          const docLink = document.createElement('div');\n",
              "          docLink.innerHTML = docLinkHtml;\n",
              "          element.appendChild(docLink);\n",
              "        }\n",
              "      </script>\n",
              "    </div>\n",
              "  </div>\n",
              "  "
            ]
          },
          "metadata": {},
          "execution_count": 2
        }
      ]
    },
    {
      "cell_type": "markdown",
      "source": [
        "# Informações sobre as variáveis"
      ],
      "metadata": {
        "id": "1Fn81KflIAQC"
      }
    },
    {
      "cell_type": "code",
      "source": [
        "df.info()"
      ],
      "metadata": {
        "colab": {
          "base_uri": "https://localhost:8080/"
        },
        "id": "pWy37BrZFaJz",
        "outputId": "b6b03534-e8e7-4d7d-92c2-427e7b8a90fc"
      },
      "execution_count": null,
      "outputs": [
        {
          "output_type": "stream",
          "name": "stdout",
          "text": [
            "<class 'pandas.core.frame.DataFrame'>\n",
            "RangeIndex: 1103 entries, 0 to 1102\n",
            "Data columns (total 20 columns):\n",
            " #   Column                      Non-Null Count  Dtype  \n",
            "---  ------                      --------------  -----  \n",
            " 0   Unnamed: 0                  1103 non-null   int64  \n",
            " 1   realSum                     1103 non-null   float64\n",
            " 2   room_type                   1103 non-null   object \n",
            " 3   room_shared                 1103 non-null   bool   \n",
            " 4   room_private                1103 non-null   bool   \n",
            " 5   person_capacity             1103 non-null   float64\n",
            " 6   host_is_superhost           1103 non-null   bool   \n",
            " 7   multi                       1103 non-null   int64  \n",
            " 8   biz                         1103 non-null   int64  \n",
            " 9   cleanliness_rating          1103 non-null   float64\n",
            " 10  guest_satisfaction_overall  1103 non-null   float64\n",
            " 11  bedrooms                    1103 non-null   int64  \n",
            " 12  dist                        1103 non-null   float64\n",
            " 13  metro_dist                  1103 non-null   float64\n",
            " 14  attr_index                  1103 non-null   float64\n",
            " 15  attr_index_norm             1103 non-null   float64\n",
            " 16  rest_index                  1103 non-null   float64\n",
            " 17  rest_index_norm             1103 non-null   float64\n",
            " 18  lng                         1103 non-null   float64\n",
            " 19  lat                         1103 non-null   float64\n",
            "dtypes: bool(3), float64(12), int64(4), object(1)\n",
            "memory usage: 149.8+ KB\n"
          ]
        }
      ]
    },
    {
      "cell_type": "markdown",
      "source": [
        "# Somando os valores null"
      ],
      "metadata": {
        "id": "en4U-NzvIDD2"
      }
    },
    {
      "cell_type": "code",
      "source": [
        "df.isnull().sum()"
      ],
      "metadata": {
        "colab": {
          "base_uri": "https://localhost:8080/"
        },
        "id": "2d3SF-MMFaM9",
        "outputId": "6e23cc44-5d01-4131-8a0b-b8fe1794900c"
      },
      "execution_count": null,
      "outputs": [
        {
          "output_type": "execute_result",
          "data": {
            "text/plain": [
              "Unnamed: 0                    0\n",
              "realSum                       0\n",
              "room_type                     0\n",
              "room_shared                   0\n",
              "room_private                  0\n",
              "person_capacity               0\n",
              "host_is_superhost             0\n",
              "multi                         0\n",
              "biz                           0\n",
              "cleanliness_rating            0\n",
              "guest_satisfaction_overall    0\n",
              "bedrooms                      0\n",
              "dist                          0\n",
              "metro_dist                    0\n",
              "attr_index                    0\n",
              "attr_index_norm               0\n",
              "rest_index                    0\n",
              "rest_index_norm               0\n",
              "lng                           0\n",
              "lat                           0\n",
              "dtype: int64"
            ]
          },
          "metadata": {},
          "execution_count": 4
        }
      ]
    },
    {
      "cell_type": "markdown",
      "source": [
        "# Drop variável dispensável"
      ],
      "metadata": {
        "id": "aCf8fscVIGmq"
      }
    },
    {
      "cell_type": "code",
      "source": [
        "df.columns\n",
        "df.drop(['Unnamed: 0'], axis=1, inplace=True)\n",
        "df.columns"
      ],
      "metadata": {
        "colab": {
          "base_uri": "https://localhost:8080/"
        },
        "id": "A-G6A9ZPFaP5",
        "outputId": "a822672e-db31-40d2-e757-2f2ae1b69089"
      },
      "execution_count": null,
      "outputs": [
        {
          "output_type": "execute_result",
          "data": {
            "text/plain": [
              "Index(['realSum', 'room_type', 'room_shared', 'room_private',\n",
              "       'person_capacity', 'host_is_superhost', 'multi', 'biz',\n",
              "       'cleanliness_rating', 'guest_satisfaction_overall', 'bedrooms', 'dist',\n",
              "       'metro_dist', 'attr_index', 'attr_index_norm', 'rest_index',\n",
              "       'rest_index_norm', 'lng', 'lat'],\n",
              "      dtype='object')"
            ]
          },
          "metadata": {},
          "execution_count": 5
        }
      ]
    },
    {
      "cell_type": "markdown",
      "source": [
        "# Traduzindo variáveis"
      ],
      "metadata": {
        "id": "QqXb0_0sIOBM"
      }
    },
    {
      "cell_type": "code",
      "source": [
        "df.columns = [\n",
        "       'preco_anuncio', 'tipo_quarto', 'quartoCompartilhado', 'quarto_privado',\n",
        "       'num_pessoas', 'host_superhost', 'multi_quartos', 'areas',\n",
        "       'class_limpeza', 'satisfacao', 'quartos_dormir', 'dist_centro',\n",
        "       'dist_metro', 'attr index', 'attr index norm', 'rest index',\n",
        "       'rest index norm', 'long', 'latit'\n",
        "]\n",
        "\n",
        "df.head()"
      ],
      "metadata": {
        "colab": {
          "base_uri": "https://localhost:8080/",
          "height": 305
        },
        "id": "XScb9ICPFaS8",
        "outputId": "9f9cf5c2-d525-4b8b-e5c7-ba2a28ebeb38"
      },
      "execution_count": null,
      "outputs": [
        {
          "output_type": "execute_result",
          "data": {
            "text/plain": [
              "   preco_anuncio   tipo_quarto  quartoCompartilhado  quarto_privado  \\\n",
              "0     194.033698  Private room                False            True   \n",
              "1     344.245776  Private room                False            True   \n",
              "2     264.101422  Private room                False            True   \n",
              "3     433.529398  Private room                False            True   \n",
              "4     485.552926  Private room                False            True   \n",
              "\n",
              "   num_pessoas  host_superhost  multi_quartos  areas  class_limpeza  \\\n",
              "0          2.0           False              1      0           10.0   \n",
              "1          4.0           False              0      0            8.0   \n",
              "2          2.0           False              0      1            9.0   \n",
              "3          4.0           False              0      1            9.0   \n",
              "4          2.0            True              0      0           10.0   \n",
              "\n",
              "   satisfacao  quartos_dormir  dist_centro  dist_metro  attr index  \\\n",
              "0        93.0               1     5.022964    2.539380   78.690379   \n",
              "1        85.0               1     0.488389    0.239404  631.176378   \n",
              "2        87.0               1     5.748312    3.651621   75.275877   \n",
              "3        90.0               2     0.384862    0.439876  493.272534   \n",
              "4        98.0               1     0.544738    0.318693  552.830324   \n",
              "\n",
              "   attr index norm  rest index  rest index norm     long     latit  \n",
              "0         4.166708   98.253896         6.846473  4.90569  52.41772  \n",
              "1        33.421209  837.280757        58.342928  4.90005  52.37432  \n",
              "2         3.985908   95.386955         6.646700  4.97512  52.36103  \n",
              "3        26.119108  875.033098        60.973565  4.89417  52.37663  \n",
              "4        29.272733  815.305740        56.811677  4.90051  52.37508  "
            ],
            "text/html": [
              "\n",
              "  <div id=\"df-c1ad6b1e-3705-483e-b7a8-fe683a82d73a\">\n",
              "    <div class=\"colab-df-container\">\n",
              "      <div>\n",
              "<style scoped>\n",
              "    .dataframe tbody tr th:only-of-type {\n",
              "        vertical-align: middle;\n",
              "    }\n",
              "\n",
              "    .dataframe tbody tr th {\n",
              "        vertical-align: top;\n",
              "    }\n",
              "\n",
              "    .dataframe thead th {\n",
              "        text-align: right;\n",
              "    }\n",
              "</style>\n",
              "<table border=\"1\" class=\"dataframe\">\n",
              "  <thead>\n",
              "    <tr style=\"text-align: right;\">\n",
              "      <th></th>\n",
              "      <th>preco_anuncio</th>\n",
              "      <th>tipo_quarto</th>\n",
              "      <th>quartoCompartilhado</th>\n",
              "      <th>quarto_privado</th>\n",
              "      <th>num_pessoas</th>\n",
              "      <th>host_superhost</th>\n",
              "      <th>multi_quartos</th>\n",
              "      <th>areas</th>\n",
              "      <th>class_limpeza</th>\n",
              "      <th>satisfacao</th>\n",
              "      <th>quartos_dormir</th>\n",
              "      <th>dist_centro</th>\n",
              "      <th>dist_metro</th>\n",
              "      <th>attr index</th>\n",
              "      <th>attr index norm</th>\n",
              "      <th>rest index</th>\n",
              "      <th>rest index norm</th>\n",
              "      <th>long</th>\n",
              "      <th>latit</th>\n",
              "    </tr>\n",
              "  </thead>\n",
              "  <tbody>\n",
              "    <tr>\n",
              "      <th>0</th>\n",
              "      <td>194.033698</td>\n",
              "      <td>Private room</td>\n",
              "      <td>False</td>\n",
              "      <td>True</td>\n",
              "      <td>2.0</td>\n",
              "      <td>False</td>\n",
              "      <td>1</td>\n",
              "      <td>0</td>\n",
              "      <td>10.0</td>\n",
              "      <td>93.0</td>\n",
              "      <td>1</td>\n",
              "      <td>5.022964</td>\n",
              "      <td>2.539380</td>\n",
              "      <td>78.690379</td>\n",
              "      <td>4.166708</td>\n",
              "      <td>98.253896</td>\n",
              "      <td>6.846473</td>\n",
              "      <td>4.90569</td>\n",
              "      <td>52.41772</td>\n",
              "    </tr>\n",
              "    <tr>\n",
              "      <th>1</th>\n",
              "      <td>344.245776</td>\n",
              "      <td>Private room</td>\n",
              "      <td>False</td>\n",
              "      <td>True</td>\n",
              "      <td>4.0</td>\n",
              "      <td>False</td>\n",
              "      <td>0</td>\n",
              "      <td>0</td>\n",
              "      <td>8.0</td>\n",
              "      <td>85.0</td>\n",
              "      <td>1</td>\n",
              "      <td>0.488389</td>\n",
              "      <td>0.239404</td>\n",
              "      <td>631.176378</td>\n",
              "      <td>33.421209</td>\n",
              "      <td>837.280757</td>\n",
              "      <td>58.342928</td>\n",
              "      <td>4.90005</td>\n",
              "      <td>52.37432</td>\n",
              "    </tr>\n",
              "    <tr>\n",
              "      <th>2</th>\n",
              "      <td>264.101422</td>\n",
              "      <td>Private room</td>\n",
              "      <td>False</td>\n",
              "      <td>True</td>\n",
              "      <td>2.0</td>\n",
              "      <td>False</td>\n",
              "      <td>0</td>\n",
              "      <td>1</td>\n",
              "      <td>9.0</td>\n",
              "      <td>87.0</td>\n",
              "      <td>1</td>\n",
              "      <td>5.748312</td>\n",
              "      <td>3.651621</td>\n",
              "      <td>75.275877</td>\n",
              "      <td>3.985908</td>\n",
              "      <td>95.386955</td>\n",
              "      <td>6.646700</td>\n",
              "      <td>4.97512</td>\n",
              "      <td>52.36103</td>\n",
              "    </tr>\n",
              "    <tr>\n",
              "      <th>3</th>\n",
              "      <td>433.529398</td>\n",
              "      <td>Private room</td>\n",
              "      <td>False</td>\n",
              "      <td>True</td>\n",
              "      <td>4.0</td>\n",
              "      <td>False</td>\n",
              "      <td>0</td>\n",
              "      <td>1</td>\n",
              "      <td>9.0</td>\n",
              "      <td>90.0</td>\n",
              "      <td>2</td>\n",
              "      <td>0.384862</td>\n",
              "      <td>0.439876</td>\n",
              "      <td>493.272534</td>\n",
              "      <td>26.119108</td>\n",
              "      <td>875.033098</td>\n",
              "      <td>60.973565</td>\n",
              "      <td>4.89417</td>\n",
              "      <td>52.37663</td>\n",
              "    </tr>\n",
              "    <tr>\n",
              "      <th>4</th>\n",
              "      <td>485.552926</td>\n",
              "      <td>Private room</td>\n",
              "      <td>False</td>\n",
              "      <td>True</td>\n",
              "      <td>2.0</td>\n",
              "      <td>True</td>\n",
              "      <td>0</td>\n",
              "      <td>0</td>\n",
              "      <td>10.0</td>\n",
              "      <td>98.0</td>\n",
              "      <td>1</td>\n",
              "      <td>0.544738</td>\n",
              "      <td>0.318693</td>\n",
              "      <td>552.830324</td>\n",
              "      <td>29.272733</td>\n",
              "      <td>815.305740</td>\n",
              "      <td>56.811677</td>\n",
              "      <td>4.90051</td>\n",
              "      <td>52.37508</td>\n",
              "    </tr>\n",
              "  </tbody>\n",
              "</table>\n",
              "</div>\n",
              "      <button class=\"colab-df-convert\" onclick=\"convertToInteractive('df-c1ad6b1e-3705-483e-b7a8-fe683a82d73a')\"\n",
              "              title=\"Convert this dataframe to an interactive table.\"\n",
              "              style=\"display:none;\">\n",
              "        \n",
              "  <svg xmlns=\"http://www.w3.org/2000/svg\" height=\"24px\"viewBox=\"0 0 24 24\"\n",
              "       width=\"24px\">\n",
              "    <path d=\"M0 0h24v24H0V0z\" fill=\"none\"/>\n",
              "    <path d=\"M18.56 5.44l.94 2.06.94-2.06 2.06-.94-2.06-.94-.94-2.06-.94 2.06-2.06.94zm-11 1L8.5 8.5l.94-2.06 2.06-.94-2.06-.94L8.5 2.5l-.94 2.06-2.06.94zm10 10l.94 2.06.94-2.06 2.06-.94-2.06-.94-.94-2.06-.94 2.06-2.06.94z\"/><path d=\"M17.41 7.96l-1.37-1.37c-.4-.4-.92-.59-1.43-.59-.52 0-1.04.2-1.43.59L10.3 9.45l-7.72 7.72c-.78.78-.78 2.05 0 2.83L4 21.41c.39.39.9.59 1.41.59.51 0 1.02-.2 1.41-.59l7.78-7.78 2.81-2.81c.8-.78.8-2.07 0-2.86zM5.41 20L4 18.59l7.72-7.72 1.47 1.35L5.41 20z\"/>\n",
              "  </svg>\n",
              "      </button>\n",
              "      \n",
              "  <style>\n",
              "    .colab-df-container {\n",
              "      display:flex;\n",
              "      flex-wrap:wrap;\n",
              "      gap: 12px;\n",
              "    }\n",
              "\n",
              "    .colab-df-convert {\n",
              "      background-color: #E8F0FE;\n",
              "      border: none;\n",
              "      border-radius: 50%;\n",
              "      cursor: pointer;\n",
              "      display: none;\n",
              "      fill: #1967D2;\n",
              "      height: 32px;\n",
              "      padding: 0 0 0 0;\n",
              "      width: 32px;\n",
              "    }\n",
              "\n",
              "    .colab-df-convert:hover {\n",
              "      background-color: #E2EBFA;\n",
              "      box-shadow: 0px 1px 2px rgba(60, 64, 67, 0.3), 0px 1px 3px 1px rgba(60, 64, 67, 0.15);\n",
              "      fill: #174EA6;\n",
              "    }\n",
              "\n",
              "    [theme=dark] .colab-df-convert {\n",
              "      background-color: #3B4455;\n",
              "      fill: #D2E3FC;\n",
              "    }\n",
              "\n",
              "    [theme=dark] .colab-df-convert:hover {\n",
              "      background-color: #434B5C;\n",
              "      box-shadow: 0px 1px 3px 1px rgba(0, 0, 0, 0.15);\n",
              "      filter: drop-shadow(0px 1px 2px rgba(0, 0, 0, 0.3));\n",
              "      fill: #FFFFFF;\n",
              "    }\n",
              "  </style>\n",
              "\n",
              "      <script>\n",
              "        const buttonEl =\n",
              "          document.querySelector('#df-c1ad6b1e-3705-483e-b7a8-fe683a82d73a button.colab-df-convert');\n",
              "        buttonEl.style.display =\n",
              "          google.colab.kernel.accessAllowed ? 'block' : 'none';\n",
              "\n",
              "        async function convertToInteractive(key) {\n",
              "          const element = document.querySelector('#df-c1ad6b1e-3705-483e-b7a8-fe683a82d73a');\n",
              "          const dataTable =\n",
              "            await google.colab.kernel.invokeFunction('convertToInteractive',\n",
              "                                                     [key], {});\n",
              "          if (!dataTable) return;\n",
              "\n",
              "          const docLinkHtml = 'Like what you see? Visit the ' +\n",
              "            '<a target=\"_blank\" href=https://colab.research.google.com/notebooks/data_table.ipynb>data table notebook</a>'\n",
              "            + ' to learn more about interactive tables.';\n",
              "          element.innerHTML = '';\n",
              "          dataTable['output_type'] = 'display_data';\n",
              "          await google.colab.output.renderOutput(dataTable, element);\n",
              "          const docLink = document.createElement('div');\n",
              "          docLink.innerHTML = docLinkHtml;\n",
              "          element.appendChild(docLink);\n",
              "        }\n",
              "      </script>\n",
              "    </div>\n",
              "  </div>\n",
              "  "
            ]
          },
          "metadata": {},
          "execution_count": 6
        }
      ]
    },
    {
      "cell_type": "markdown",
      "source": [
        "# Verificando o tipo, quantidade de registro salvo dentro das variáveis categoricas"
      ],
      "metadata": {
        "id": "lfxIL9lfIRuq"
      }
    },
    {
      "cell_type": "code",
      "source": [
        "df.tipo_quarto.value_counts() "
      ],
      "metadata": {
        "colab": {
          "base_uri": "https://localhost:8080/"
        },
        "id": "nzoMiXRZFaWG",
        "outputId": "e0ffd82b-51c9-4126-bf69-e2219f14403e"
      },
      "execution_count": null,
      "outputs": [
        {
          "output_type": "execute_result",
          "data": {
            "text/plain": [
              "Private room       559\n",
              "Entire home/apt    538\n",
              "Shared room          6\n",
              "Name: tipo_quarto, dtype: int64"
            ]
          },
          "metadata": {},
          "execution_count": 7
        }
      ]
    },
    {
      "cell_type": "code",
      "source": [
        "df.quartoCompartilhado.value_counts()"
      ],
      "metadata": {
        "colab": {
          "base_uri": "https://localhost:8080/"
        },
        "id": "cTegB7AbFaY9",
        "outputId": "9ebce869-7864-40ef-dfab-54b3312af337"
      },
      "execution_count": null,
      "outputs": [
        {
          "output_type": "execute_result",
          "data": {
            "text/plain": [
              "False    1097\n",
              "True        6\n",
              "Name: quartoCompartilhado, dtype: int64"
            ]
          },
          "metadata": {},
          "execution_count": 8
        }
      ]
    },
    {
      "cell_type": "code",
      "source": [
        "df.quarto_privado.value_counts()"
      ],
      "metadata": {
        "colab": {
          "base_uri": "https://localhost:8080/"
        },
        "id": "BIMfZOdpFab6",
        "outputId": "d5220a06-d015-4bca-b28b-b3c5e03fc326"
      },
      "execution_count": null,
      "outputs": [
        {
          "output_type": "execute_result",
          "data": {
            "text/plain": [
              "True     559\n",
              "False    544\n",
              "Name: quarto_privado, dtype: int64"
            ]
          },
          "metadata": {},
          "execution_count": 9
        }
      ]
    },
    {
      "cell_type": "code",
      "source": [
        "df.host_superhost.value_counts()"
      ],
      "metadata": {
        "colab": {
          "base_uri": "https://localhost:8080/"
        },
        "id": "rd3i4k66FafB",
        "outputId": "2909c0f0-36fd-48e4-d0cd-2f37dfff375e"
      },
      "execution_count": null,
      "outputs": [
        {
          "output_type": "execute_result",
          "data": {
            "text/plain": [
              "False    780\n",
              "True     323\n",
              "Name: host_superhost, dtype: int64"
            ]
          },
          "metadata": {},
          "execution_count": 10
        }
      ]
    },
    {
      "cell_type": "markdown",
      "source": [
        "# Dashboards"
      ],
      "metadata": {
        "id": "FaKbKOlPIdPj"
      }
    },
    {
      "cell_type": "markdown",
      "source": [
        "## Verificando os valores dos anúncios por categoria de quartos\n",
        "\n",
        "> anúncios mais caros são, as casas e apartamentos inteiros\n",
        "\n",
        "> mais barato é o quarto compartilhado"
      ],
      "metadata": {
        "id": "h8vZy3RgImUK"
      }
    },
    {
      "cell_type": "code",
      "source": [
        "sns.lmplot(data=df, x=\"quartos_dormir\", y=\"preco_anuncio\", col=\"tipo_quarto\", hue=\"host_superhost\")"
      ],
      "metadata": {
        "colab": {
          "base_uri": "https://localhost:8080/",
          "height": 319
        },
        "id": "Lb6tNTZ7FaiE",
        "outputId": "84604614-cbf5-429f-8b4e-69354366b3e1"
      },
      "execution_count": null,
      "outputs": [
        {
          "output_type": "execute_result",
          "data": {
            "text/plain": [
              "<seaborn.axisgrid.FacetGrid at 0x7f2113ec0250>"
            ]
          },
          "metadata": {},
          "execution_count": 11
        },
        {
          "output_type": "display_data",
          "data": {
            "text/plain": [
              "<Figure size 1164x360 with 3 Axes>"
            ],
            "image/png": "[encoded data removed]"
          },
          "metadata": {
            "needs_background": "light"
          }
        }
      ]
    },
    {
      "cell_type": "markdown",
      "source": [
        "## Diferença do preço do anúncio do quarto privativo , p/ o não privativo\n",
        "\n",
        "> Anúncio mais barato é da sala compartilhada, seguido do quarto privado"
      ],
      "metadata": {
        "id": "nWDS_DDtIvpi"
      }
    },
    {
      "cell_type": "code",
      "source": [
        "# sns.catplot(data=dataset, kind=\"estilo_gráfico\", x=\"var categorica\", y=\"var_numerica\", hue=\"var_categorica\")\n",
        "def grafico(dataset):\n",
        "    sns.catplot(data=dataset, kind=\"swarm\", x=\"tipo_quarto\", \n",
        "                y=\"preco_anuncio\", hue=\"quarto_privado\")\n",
        "\n",
        "grafico(df)"
      ],
      "metadata": {
        "colab": {
          "base_uri": "https://localhost:8080/",
          "height": 458
        },
        "id": "Z3jj6FS5FalC",
        "outputId": "d699bcec-698e-45ca-c461-1fec8aa66c8a"
      },
      "execution_count": null,
      "outputs": [
        {
          "output_type": "stream",
          "name": "stderr",
          "text": [
            "/usr/local/lib/python3.8/dist-packages/seaborn/categorical.py:1296: UserWarning: 81.9% of the points cannot be placed; you may want to decrease the size of the markers or use stripplot.\n",
            "  warnings.warn(msg, UserWarning)\n",
            "/usr/local/lib/python3.8/dist-packages/seaborn/categorical.py:1296: UserWarning: 69.3% of the points cannot be placed; you may want to decrease the size of the markers or use stripplot.\n",
            "  warnings.warn(msg, UserWarning)\n"
          ]
        },
        {
          "output_type": "display_data",
          "data": {
            "text/plain": [
              "<Figure size 443.5x360 with 1 Axes>"
            ],
            "image/png": "[encoded data removed]"
          },
          "metadata": {
            "needs_background": "light"
          }
        }
      ]
    },
    {
      "cell_type": "markdown",
      "source": [
        "## Diferença de valores dos quartos compartilhados, privativos ou não\n",
        "\n",
        "> anúncio do quarto compartilhado, não sendo privado, é mais em conta\n",
        "\n",
        "> seguido do anúncio do quarto não compartilhado, sendo privado"
      ],
      "metadata": {
        "id": "nRMppa8fI_zj"
      }
    },
    {
      "cell_type": "code",
      "source": [
        "sns.catplot(data=df, kind=\"bar\", x=\"quartoCompartilhado\", \n",
        "                y=\"preco_anuncio\", hue=\"quarto_privado\")    "
      ],
      "metadata": {
        "colab": {
          "base_uri": "https://localhost:8080/",
          "height": 386
        },
        "id": "fZbdqaQQFan6",
        "outputId": "877d5743-b87f-4f33-d5a4-38bb74b4995b"
      },
      "execution_count": null,
      "outputs": [
        {
          "output_type": "execute_result",
          "data": {
            "text/plain": [
              "<seaborn.axisgrid.FacetGrid at 0x7f2110b24790>"
            ]
          },
          "metadata": {},
          "execution_count": 13
        },
        {
          "output_type": "display_data",
          "data": {
            "text/plain": [
              "<Figure size 443.5x360 with 1 Axes>"
            ],
            "image/png": "[encoded data removed]"
          },
          "metadata": {
            "needs_background": "light"
          }
        }
      ]
    },
    {
      "cell_type": "markdown",
      "source": [
        "## Preço do anúncio por número de quartos\n",
        "\n",
        "> Mult quartos: o valor do anúncio para alguns quartos são maiores"
      ],
      "metadata": {
        "id": "BNSnDvqmJJmz"
      }
    },
    {
      "cell_type": "code",
      "source": [
        "sns.catplot(data=df, x=\"quartos_dormir\", y=\"preco_anuncio\", hue=\"multi_quartos\", kind=\"point\")"
      ],
      "metadata": {
        "colab": {
          "base_uri": "https://localhost:8080/",
          "height": 386
        },
        "id": "tA8Dl8I3FarM",
        "outputId": "eae0b770-e819-4058-87e3-2c7d4b7aef9d"
      },
      "execution_count": null,
      "outputs": [
        {
          "output_type": "execute_result",
          "data": {
            "text/plain": [
              "<seaborn.axisgrid.FacetGrid at 0x7f211139e130>"
            ]
          },
          "metadata": {},
          "execution_count": 14
        },
        {
          "output_type": "display_data",
          "data": {
            "text/plain": [
              "<Figure size 436.75x360 with 1 Axes>"
            ],
            "image/png": "[encoded data removed]"
          },
          "metadata": {
            "needs_background": "light"
          }
        }
      ]
    },
    {
      "cell_type": "markdown",
      "source": [
        "## Distribuição de frequência da variável preco_anuncio\n",
        "\n",
        "> Assimétrica a direita"
      ],
      "metadata": {
        "id": "e3T7DnsyJYT7"
      }
    },
    {
      "cell_type": "code",
      "source": [
        "ax =sns.distplot(df['preco_anuncio'])\n",
        "ax.figure.set_size_inches(12,6)\n",
        "ax.set_title('Distribuição de Frequência', fontsize=20)\n",
        "ax.set_ylabel('Valores de imóveis', fontsize=16)\n",
        "ax = ax"
      ],
      "metadata": {
        "colab": {
          "base_uri": "https://localhost:8080/",
          "height": 466
        },
        "id": "5zQzAQDcFat5",
        "outputId": "5d328988-2346-4c74-aba7-e6fddf434da9"
      },
      "execution_count": null,
      "outputs": [
        {
          "output_type": "stream",
          "name": "stderr",
          "text": [
            "/usr/local/lib/python3.8/dist-packages/seaborn/distributions.py:2619: FutureWarning: `distplot` is a deprecated function and will be removed in a future version. Please adapt your code to use either `displot` (a figure-level function with similar flexibility) or `histplot` (an axes-level function for histograms).\n",
            "  warnings.warn(msg, FutureWarning)\n"
          ]
        },
        {
          "output_type": "display_data",
          "data": {
            "text/plain": [
              "<Figure size 864x432 with 1 Axes>"
            ],
            "image/png": "[encoded data removed]"
          },
          "metadata": {
            "needs_background": "light"
          }
        }
      ]
    },
    {
      "cell_type": "markdown",
      "source": [
        "## Variáveis correlativas\n",
        "\n",
        "> Var correlação positiva: número de pessoas, quartos dormir\n",
        "\n",
        "> Var correlação negativo: quartos privativos, distância do centro "
      ],
      "metadata": {
        "id": "11FUNi_jJivb"
      }
    },
    {
      "cell_type": "code",
      "source": [
        "data = df.corr()\n",
        "\n",
        "fig, plot = plt.subplots(figsize=(20,6))\n",
        "plot = sns.heatmap(data, annot = True, fmt=\".1f\", linewidths=.10)\n",
        "plot"
      ],
      "metadata": {
        "colab": {
          "base_uri": "https://localhost:8080/",
          "height": 416
        },
        "id": "Yk2aeFknFaxB",
        "outputId": "cdc24506-dde8-4e60-a251-03f5d7881e1c"
      },
      "execution_count": null,
      "outputs": [
        {
          "output_type": "execute_result",
          "data": {
            "text/plain": [
              "<matplotlib.axes._subplots.AxesSubplot at 0x7f210eacfc70>"
            ]
          },
          "metadata": {},
          "execution_count": 16
        },
        {
          "output_type": "display_data",
          "data": {
            "text/plain": [
              "<Figure size 1440x432 with 2 Axes>"
            ],
            "image/png": "[encoded data removed]"
          },
          "metadata": {
            "needs_background": "light"
          }
        }
      ]
    },
    {
      "cell_type": "markdown",
      "source": [
        "# Machine Learning"
      ],
      "metadata": {
        "id": "Wvc494lvIit0"
      }
    },
    {
      "cell_type": "markdown",
      "source": [
        "## Transformar os dados\n",
        "\n",
        "> Usado para deixa os dados mais harmoniosos\n",
        "\n",
        "> Usar caso a sua distribuição de frequência esteja assimétrica a direita, assimétrica a esquerda. Caso contrário não necessita"
      ],
      "metadata": {
        "id": "1KIkC9iHMGzy"
      }
    },
    {
      "cell_type": "code",
      "source": [
        "from sklearn.preprocessing import FunctionTransformer\n",
        "import numpy as np\n",
        "\n",
        "\n",
        "# Criando o modelo\n",
        "ft = FunctionTransformer(np.log1p, validate=True)\n",
        "transforme = ft.transform(df.select_dtypes(exclude=['object']))\n",
        "\n",
        "\n",
        "# Pegando os nomes das colunas\n",
        "colunas = df.select_dtypes(exclude=['object']).columns\n",
        "\n",
        "\n",
        "# Juntando as variáveis\n",
        "transforme = pd.concat([df.select_dtypes(include=['object']), \n",
        "                              pd.DataFrame(transforme, columns=colunas)], axis=1)\n",
        "transforme.head()"
      ],
      "metadata": {
        "colab": {
          "base_uri": "https://localhost:8080/",
          "height": 340
        },
        "id": "KaMw5i85GOAh",
        "outputId": "027a7645-d096-4973-96a7-0d7672066a4e"
      },
      "execution_count": null,
      "outputs": [
        {
          "output_type": "stream",
          "name": "stderr",
          "text": [
            "/usr/local/lib/python3.8/dist-packages/sklearn/base.py:443: UserWarning: X has feature names, but FunctionTransformer was fitted without feature names\n",
            "  warnings.warn(\n"
          ]
        },
        {
          "output_type": "execute_result",
          "data": {
            "text/plain": [
              "    tipo_quarto  preco_anuncio  quartoCompartilhado  quarto_privado  \\\n",
              "0  Private room       5.273172                  0.0        0.693147   \n",
              "1  Private room       5.844257                  0.0        0.693147   \n",
              "2  Private room       5.580112                  0.0        0.693147   \n",
              "3  Private room       6.074264                  0.0        0.693147   \n",
              "4  Private room       6.187346                  0.0        0.693147   \n",
              "\n",
              "   num_pessoas  host_superhost  multi_quartos     areas  class_limpeza  \\\n",
              "0     1.098612        0.000000       0.693147  0.000000       2.397895   \n",
              "1     1.609438        0.000000       0.000000  0.000000       2.197225   \n",
              "2     1.098612        0.000000       0.000000  0.693147       2.302585   \n",
              "3     1.609438        0.000000       0.000000  0.693147       2.302585   \n",
              "4     1.098612        0.693147       0.000000  0.000000       2.397895   \n",
              "\n",
              "   satisfacao  quartos_dormir  dist_centro  dist_metro  attr index  \\\n",
              "0    4.543295        0.693147     1.795579    1.263952    4.378149   \n",
              "1    4.454347        0.693147     0.397695    0.214631    6.449168   \n",
              "2    4.477337        0.693147     1.909292    1.537216    4.334357   \n",
              "3    4.510860        1.098612     0.325601    0.364557    6.203087   \n",
              "4    4.595120        0.693147     0.434854    0.276641    6.316858   \n",
              "\n",
              "   attr index norm  rest index  rest index norm      long     latit  \n",
              "0         1.642236    4.597681         2.060064  1.775916  3.978143  \n",
              "1         3.538673    6.731353         4.083333  1.774961  3.977330  \n",
              "2         1.606615    4.568371         2.034274  1.787604  3.977081  \n",
              "3         3.300239    6.775404         4.126708  1.773964  3.977373  \n",
              "4         3.410247    6.704789         4.057191  1.775039  3.977344  "
            ],
            "text/html": [
              "\n",
              "  <div id=\"df-750fd73f-66af-46ac-9e30-dd97a88dea9b\">\n",
              "    <div class=\"colab-df-container\">\n",
              "      <div>\n",
              "<style scoped>\n",
              "    .dataframe tbody tr th:only-of-type {\n",
              "        vertical-align: middle;\n",
              "    }\n",
              "\n",
              "    .dataframe tbody tr th {\n",
              "        vertical-align: top;\n",
              "    }\n",
              "\n",
              "    .dataframe thead th {\n",
              "        text-align: right;\n",
              "    }\n",
              "</style>\n",
              "<table border=\"1\" class=\"dataframe\">\n",
              "  <thead>\n",
              "    <tr style=\"text-align: right;\">\n",
              "      <th></th>\n",
              "      <th>tipo_quarto</th>\n",
              "      <th>preco_anuncio</th>\n",
              "      <th>quartoCompartilhado</th>\n",
              "      <th>quarto_privado</th>\n",
              "      <th>num_pessoas</th>\n",
              "      <th>host_superhost</th>\n",
              "      <th>multi_quartos</th>\n",
              "      <th>areas</th>\n",
              "      <th>class_limpeza</th>\n",
              "      <th>satisfacao</th>\n",
              "      <th>quartos_dormir</th>\n",
              "      <th>dist_centro</th>\n",
              "      <th>dist_metro</th>\n",
              "      <th>attr index</th>\n",
              "      <th>attr index norm</th>\n",
              "      <th>rest index</th>\n",
              "      <th>rest index norm</th>\n",
              "      <th>long</th>\n",
              "      <th>latit</th>\n",
              "    </tr>\n",
              "  </thead>\n",
              "  <tbody>\n",
              "    <tr>\n",
              "      <th>0</th>\n",
              "      <td>Private room</td>\n",
              "      <td>5.273172</td>\n",
              "      <td>0.0</td>\n",
              "      <td>0.693147</td>\n",
              "      <td>1.098612</td>\n",
              "      <td>0.000000</td>\n",
              "      <td>0.693147</td>\n",
              "      <td>0.000000</td>\n",
              "      <td>2.397895</td>\n",
              "      <td>4.543295</td>\n",
              "      <td>0.693147</td>\n",
              "      <td>1.795579</td>\n",
              "      <td>1.263952</td>\n",
              "      <td>4.378149</td>\n",
              "      <td>1.642236</td>\n",
              "      <td>4.597681</td>\n",
              "      <td>2.060064</td>\n",
              "      <td>1.775916</td>\n",
              "      <td>3.978143</td>\n",
              "    </tr>\n",
              "    <tr>\n",
              "      <th>1</th>\n",
              "      <td>Private room</td>\n",
              "      <td>5.844257</td>\n",
              "      <td>0.0</td>\n",
              "      <td>0.693147</td>\n",
              "      <td>1.609438</td>\n",
              "      <td>0.000000</td>\n",
              "      <td>0.000000</td>\n",
              "      <td>0.000000</td>\n",
              "      <td>2.197225</td>\n",
              "      <td>4.454347</td>\n",
              "      <td>0.693147</td>\n",
              "      <td>0.397695</td>\n",
              "      <td>0.214631</td>\n",
              "      <td>6.449168</td>\n",
              "      <td>3.538673</td>\n",
              "      <td>6.731353</td>\n",
              "      <td>4.083333</td>\n",
              "      <td>1.774961</td>\n",
              "      <td>3.977330</td>\n",
              "    </tr>\n",
              "    <tr>\n",
              "      <th>2</th>\n",
              "      <td>Private room</td>\n",
              "      <td>5.580112</td>\n",
              "      <td>0.0</td>\n",
              "      <td>0.693147</td>\n",
              "      <td>1.098612</td>\n",
              "      <td>0.000000</td>\n",
              "      <td>0.000000</td>\n",
              "      <td>0.693147</td>\n",
              "      <td>2.302585</td>\n",
              "      <td>4.477337</td>\n",
              "      <td>0.693147</td>\n",
              "      <td>1.909292</td>\n",
              "      <td>1.537216</td>\n",
              "      <td>4.334357</td>\n",
              "      <td>1.606615</td>\n",
              "      <td>4.568371</td>\n",
              "      <td>2.034274</td>\n",
              "      <td>1.787604</td>\n",
              "      <td>3.977081</td>\n",
              "    </tr>\n",
              "    <tr>\n",
              "      <th>3</th>\n",
              "      <td>Private room</td>\n",
              "      <td>6.074264</td>\n",
              "      <td>0.0</td>\n",
              "      <td>0.693147</td>\n",
              "      <td>1.609438</td>\n",
              "      <td>0.000000</td>\n",
              "      <td>0.000000</td>\n",
              "      <td>0.693147</td>\n",
              "      <td>2.302585</td>\n",
              "      <td>4.510860</td>\n",
              "      <td>1.098612</td>\n",
              "      <td>0.325601</td>\n",
              "      <td>0.364557</td>\n",
              "      <td>6.203087</td>\n",
              "      <td>3.300239</td>\n",
              "      <td>6.775404</td>\n",
              "      <td>4.126708</td>\n",
              "      <td>1.773964</td>\n",
              "      <td>3.977373</td>\n",
              "    </tr>\n",
              "    <tr>\n",
              "      <th>4</th>\n",
              "      <td>Private room</td>\n",
              "      <td>6.187346</td>\n",
              "      <td>0.0</td>\n",
              "      <td>0.693147</td>\n",
              "      <td>1.098612</td>\n",
              "      <td>0.693147</td>\n",
              "      <td>0.000000</td>\n",
              "      <td>0.000000</td>\n",
              "      <td>2.397895</td>\n",
              "      <td>4.595120</td>\n",
              "      <td>0.693147</td>\n",
              "      <td>0.434854</td>\n",
              "      <td>0.276641</td>\n",
              "      <td>6.316858</td>\n",
              "      <td>3.410247</td>\n",
              "      <td>6.704789</td>\n",
              "      <td>4.057191</td>\n",
              "      <td>1.775039</td>\n",
              "      <td>3.977344</td>\n",
              "    </tr>\n",
              "  </tbody>\n",
              "</table>\n",
              "</div>\n",
              "      <button class=\"colab-df-convert\" onclick=\"convertToInteractive('df-750fd73f-66af-46ac-9e30-dd97a88dea9b')\"\n",
              "              title=\"Convert this dataframe to an interactive table.\"\n",
              "              style=\"display:none;\">\n",
              "        \n",
              "  <svg xmlns=\"http://www.w3.org/2000/svg\" height=\"24px\"viewBox=\"0 0 24 24\"\n",
              "       width=\"24px\">\n",
              "    <path d=\"M0 0h24v24H0V0z\" fill=\"none\"/>\n",
              "    <path d=\"M18.56 5.44l.94 2.06.94-2.06 2.06-.94-2.06-.94-.94-2.06-.94 2.06-2.06.94zm-11 1L8.5 8.5l.94-2.06 2.06-.94-2.06-.94L8.5 2.5l-.94 2.06-2.06.94zm10 10l.94 2.06.94-2.06 2.06-.94-2.06-.94-.94-2.06-.94 2.06-2.06.94z\"/><path d=\"M17.41 7.96l-1.37-1.37c-.4-.4-.92-.59-1.43-.59-.52 0-1.04.2-1.43.59L10.3 9.45l-7.72 7.72c-.78.78-.78 2.05 0 2.83L4 21.41c.39.39.9.59 1.41.59.51 0 1.02-.2 1.41-.59l7.78-7.78 2.81-2.81c.8-.78.8-2.07 0-2.86zM5.41 20L4 18.59l7.72-7.72 1.47 1.35L5.41 20z\"/>\n",
              "  </svg>\n",
              "      </button>\n",
              "      \n",
              "  <style>\n",
              "    .colab-df-container {\n",
              "      display:flex;\n",
              "      flex-wrap:wrap;\n",
              "      gap: 12px;\n",
              "    }\n",
              "\n",
              "    .colab-df-convert {\n",
              "      background-color: #E8F0FE;\n",
              "      border: none;\n",
              "      border-radius: 50%;\n",
              "      cursor: pointer;\n",
              "      display: none;\n",
              "      fill: #1967D2;\n",
              "      height: 32px;\n",
              "      padding: 0 0 0 0;\n",
              "      width: 32px;\n",
              "    }\n",
              "\n",
              "    .colab-df-convert:hover {\n",
              "      background-color: #E2EBFA;\n",
              "      box-shadow: 0px 1px 2px rgba(60, 64, 67, 0.3), 0px 1px 3px 1px rgba(60, 64, 67, 0.15);\n",
              "      fill: #174EA6;\n",
              "    }\n",
              "\n",
              "    [theme=dark] .colab-df-convert {\n",
              "      background-color: #3B4455;\n",
              "      fill: #D2E3FC;\n",
              "    }\n",
              "\n",
              "    [theme=dark] .colab-df-convert:hover {\n",
              "      background-color: #434B5C;\n",
              "      box-shadow: 0px 1px 3px 1px rgba(0, 0, 0, 0.15);\n",
              "      filter: drop-shadow(0px 1px 2px rgba(0, 0, 0, 0.3));\n",
              "      fill: #FFFFFF;\n",
              "    }\n",
              "  </style>\n",
              "\n",
              "      <script>\n",
              "        const buttonEl =\n",
              "          document.querySelector('#df-750fd73f-66af-46ac-9e30-dd97a88dea9b button.colab-df-convert');\n",
              "        buttonEl.style.display =\n",
              "          google.colab.kernel.accessAllowed ? 'block' : 'none';\n",
              "\n",
              "        async function convertToInteractive(key) {\n",
              "          const element = document.querySelector('#df-750fd73f-66af-46ac-9e30-dd97a88dea9b');\n",
              "          const dataTable =\n",
              "            await google.colab.kernel.invokeFunction('convertToInteractive',\n",
              "                                                     [key], {});\n",
              "          if (!dataTable) return;\n",
              "\n",
              "          const docLinkHtml = 'Like what you see? Visit the ' +\n",
              "            '<a target=\"_blank\" href=https://colab.research.google.com/notebooks/data_table.ipynb>data table notebook</a>'\n",
              "            + ' to learn more about interactive tables.';\n",
              "          element.innerHTML = '';\n",
              "          dataTable['output_type'] = 'display_data';\n",
              "          await google.colab.output.renderOutput(dataTable, element);\n",
              "          const docLink = document.createElement('div');\n",
              "          docLink.innerHTML = docLinkHtml;\n",
              "          element.appendChild(docLink);\n",
              "        }\n",
              "      </script>\n",
              "    </div>\n",
              "  </div>\n",
              "  "
            ]
          },
          "metadata": {},
          "execution_count": 17
        }
      ]
    },
    {
      "cell_type": "markdown",
      "source": [
        "## Distribuição de frequência da variável preco_anuncio\n",
        "\n",
        "> Assimétrica quase assimétrica"
      ],
      "metadata": {
        "id": "k9eENwNOMUsi"
      }
    },
    {
      "cell_type": "code",
      "source": [
        "ax =sns.distplot(transforme['preco_anuncio'])\n",
        "ax.figure.set_size_inches(12,6)\n",
        "ax.set_title('Distribuição de Frequência', fontsize=20)\n",
        "ax.set_ylabel('Valores de imóveis', fontsize=16)\n",
        "ax = ax"
      ],
      "metadata": {
        "colab": {
          "base_uri": "https://localhost:8080/",
          "height": 466
        },
        "id": "diWtmFwBHHWB",
        "outputId": "1abc48a5-eb5b-42f9-b4b2-e6a67101588b"
      },
      "execution_count": null,
      "outputs": [
        {
          "output_type": "stream",
          "name": "stderr",
          "text": [
            "/usr/local/lib/python3.8/dist-packages/seaborn/distributions.py:2619: FutureWarning: `distplot` is a deprecated function and will be removed in a future version. Please adapt your code to use either `displot` (a figure-level function with similar flexibility) or `histplot` (an axes-level function for histograms).\n",
            "  warnings.warn(msg, FutureWarning)\n"
          ]
        },
        {
          "output_type": "display_data",
          "data": {
            "text/plain": [
              "<Figure size 864x432 with 1 Axes>"
            ],
            "image/png": "[encoded data removed]"
          },
          "metadata": {
            "needs_background": "light"
          }
        }
      ]
    },
    {
      "cell_type": "markdown",
      "source": [
        "## Dummies  (refazer)\n",
        "\n",
        "> Transforma as colunas categoricos, em colunas numericas\n",
        "\n",
        "> Tipos de registros nestas colunas: 0 ou 1 (não ou sim)"
      ],
      "metadata": {
        "id": "cKOAFKfSMcCD"
      }
    },
    {
      "cell_type": "code",
      "source": [
        "categoricas = transforme.select_dtypes(include=['object']).columns\n",
        "\n",
        "dummies = pd.get_dummies(transforme[categoricas])\n",
        "dummies.head(2)"
      ],
      "metadata": {
        "colab": {
          "base_uri": "https://localhost:8080/",
          "height": 112
        },
        "id": "qQXIvi4THLm-",
        "outputId": "5f445058-d31d-40a6-f3bf-b0c3a30dc8a4"
      },
      "execution_count": null,
      "outputs": [
        {
          "output_type": "execute_result",
          "data": {
            "text/plain": [
              "   tipo_quarto_Entire home/apt  tipo_quarto_Private room  \\\n",
              "0                            0                         1   \n",
              "1                            0                         1   \n",
              "\n",
              "   tipo_quarto_Shared room  \n",
              "0                        0  \n",
              "1                        0  "
            ],
            "text/html": [
              "\n",
              "  <div id=\"df-c2013b90-7ef6-45b9-b994-4bd7768e9461\">\n",
              "    <div class=\"colab-df-container\">\n",
              "      <div>\n",
              "<style scoped>\n",
              "    .dataframe tbody tr th:only-of-type {\n",
              "        vertical-align: middle;\n",
              "    }\n",
              "\n",
              "    .dataframe tbody tr th {\n",
              "        vertical-align: top;\n",
              "    }\n",
              "\n",
              "    .dataframe thead th {\n",
              "        text-align: right;\n",
              "    }\n",
              "</style>\n",
              "<table border=\"1\" class=\"dataframe\">\n",
              "  <thead>\n",
              "    <tr style=\"text-align: right;\">\n",
              "      <th></th>\n",
              "      <th>tipo_quarto_Entire home/apt</th>\n",
              "      <th>tipo_quarto_Private room</th>\n",
              "      <th>tipo_quarto_Shared room</th>\n",
              "    </tr>\n",
              "  </thead>\n",
              "  <tbody>\n",
              "    <tr>\n",
              "      <th>0</th>\n",
              "      <td>0</td>\n",
              "      <td>1</td>\n",
              "      <td>0</td>\n",
              "    </tr>\n",
              "    <tr>\n",
              "      <th>1</th>\n",
              "      <td>0</td>\n",
              "      <td>1</td>\n",
              "      <td>0</td>\n",
              "    </tr>\n",
              "  </tbody>\n",
              "</table>\n",
              "</div>\n",
              "      <button class=\"colab-df-convert\" onclick=\"convertToInteractive('df-c2013b90-7ef6-45b9-b994-4bd7768e9461')\"\n",
              "              title=\"Convert this dataframe to an interactive table.\"\n",
              "              style=\"display:none;\">\n",
              "        \n",
              "  <svg xmlns=\"http://www.w3.org/2000/svg\" height=\"24px\"viewBox=\"0 0 24 24\"\n",
              "       width=\"24px\">\n",
              "    <path d=\"M0 0h24v24H0V0z\" fill=\"none\"/>\n",
              "    <path d=\"M18.56 5.44l.94 2.06.94-2.06 2.06-.94-2.06-.94-.94-2.06-.94 2.06-2.06.94zm-11 1L8.5 8.5l.94-2.06 2.06-.94-2.06-.94L8.5 2.5l-.94 2.06-2.06.94zm10 10l.94 2.06.94-2.06 2.06-.94-2.06-.94-.94-2.06-.94 2.06-2.06.94z\"/><path d=\"M17.41 7.96l-1.37-1.37c-.4-.4-.92-.59-1.43-.59-.52 0-1.04.2-1.43.59L10.3 9.45l-7.72 7.72c-.78.78-.78 2.05 0 2.83L4 21.41c.39.39.9.59 1.41.59.51 0 1.02-.2 1.41-.59l7.78-7.78 2.81-2.81c.8-.78.8-2.07 0-2.86zM5.41 20L4 18.59l7.72-7.72 1.47 1.35L5.41 20z\"/>\n",
              "  </svg>\n",
              "      </button>\n",
              "      \n",
              "  <style>\n",
              "    .colab-df-container {\n",
              "      display:flex;\n",
              "      flex-wrap:wrap;\n",
              "      gap: 12px;\n",
              "    }\n",
              "\n",
              "    .colab-df-convert {\n",
              "      background-color: #E8F0FE;\n",
              "      border: none;\n",
              "      border-radius: 50%;\n",
              "      cursor: pointer;\n",
              "      display: none;\n",
              "      fill: #1967D2;\n",
              "      height: 32px;\n",
              "      padding: 0 0 0 0;\n",
              "      width: 32px;\n",
              "    }\n",
              "\n",
              "    .colab-df-convert:hover {\n",
              "      background-color: #E2EBFA;\n",
              "      box-shadow: 0px 1px 2px rgba(60, 64, 67, 0.3), 0px 1px 3px 1px rgba(60, 64, 67, 0.15);\n",
              "      fill: #174EA6;\n",
              "    }\n",
              "\n",
              "    [theme=dark] .colab-df-convert {\n",
              "      background-color: #3B4455;\n",
              "      fill: #D2E3FC;\n",
              "    }\n",
              "\n",
              "    [theme=dark] .colab-df-convert:hover {\n",
              "      background-color: #434B5C;\n",
              "      box-shadow: 0px 1px 3px 1px rgba(0, 0, 0, 0.15);\n",
              "      filter: drop-shadow(0px 1px 2px rgba(0, 0, 0, 0.3));\n",
              "      fill: #FFFFFF;\n",
              "    }\n",
              "  </style>\n",
              "\n",
              "      <script>\n",
              "        const buttonEl =\n",
              "          document.querySelector('#df-c2013b90-7ef6-45b9-b994-4bd7768e9461 button.colab-df-convert');\n",
              "        buttonEl.style.display =\n",
              "          google.colab.kernel.accessAllowed ? 'block' : 'none';\n",
              "\n",
              "        async function convertToInteractive(key) {\n",
              "          const element = document.querySelector('#df-c2013b90-7ef6-45b9-b994-4bd7768e9461');\n",
              "          const dataTable =\n",
              "            await google.colab.kernel.invokeFunction('convertToInteractive',\n",
              "                                                     [key], {});\n",
              "          if (!dataTable) return;\n",
              "\n",
              "          const docLinkHtml = 'Like what you see? Visit the ' +\n",
              "            '<a target=\"_blank\" href=https://colab.research.google.com/notebooks/data_table.ipynb>data table notebook</a>'\n",
              "            + ' to learn more about interactive tables.';\n",
              "          element.innerHTML = '';\n",
              "          dataTable['output_type'] = 'display_data';\n",
              "          await google.colab.output.renderOutput(dataTable, element);\n",
              "          const docLink = document.createElement('div');\n",
              "          docLink.innerHTML = docLinkHtml;\n",
              "          element.appendChild(docLink);\n",
              "        }\n",
              "      </script>\n",
              "    </div>\n",
              "  </div>\n",
              "  "
            ]
          },
          "metadata": {},
          "execution_count": 19
        }
      ]
    },
    {
      "cell_type": "markdown",
      "source": [
        "### Dataset original, sem transformação dos dados"
      ],
      "metadata": {
        "id": "13AJA2hWVVcs"
      }
    },
    {
      "cell_type": "code",
      "source": [
        "categoricas = transforme.select_dtypes(include=['object']).columns\n",
        "\n",
        "dummies = pd.get_dummies(df[categoricas])\n",
        "dummies.head(2)"
      ],
      "metadata": {
        "colab": {
          "base_uri": "https://localhost:8080/",
          "height": 112
        },
        "id": "2JuosRjBVbyy",
        "outputId": "e0d64209-b7c5-4de7-98dc-94496455609f"
      },
      "execution_count": null,
      "outputs": [
        {
          "output_type": "execute_result",
          "data": {
            "text/plain": [
              "   tipo_quarto_Entire home/apt  tipo_quarto_Private room  \\\n",
              "0                            0                         1   \n",
              "1                            0                         1   \n",
              "\n",
              "   tipo_quarto_Shared room  \n",
              "0                        0  \n",
              "1                        0  "
            ],
            "text/html": [
              "\n",
              "  <div id=\"df-c686cf56-b86f-4aec-a5e5-d56b1b412a9e\">\n",
              "    <div class=\"colab-df-container\">\n",
              "      <div>\n",
              "<style scoped>\n",
              "    .dataframe tbody tr th:only-of-type {\n",
              "        vertical-align: middle;\n",
              "    }\n",
              "\n",
              "    .dataframe tbody tr th {\n",
              "        vertical-align: top;\n",
              "    }\n",
              "\n",
              "    .dataframe thead th {\n",
              "        text-align: right;\n",
              "    }\n",
              "</style>\n",
              "<table border=\"1\" class=\"dataframe\">\n",
              "  <thead>\n",
              "    <tr style=\"text-align: right;\">\n",
              "      <th></th>\n",
              "      <th>tipo_quarto_Entire home/apt</th>\n",
              "      <th>tipo_quarto_Private room</th>\n",
              "      <th>tipo_quarto_Shared room</th>\n",
              "    </tr>\n",
              "  </thead>\n",
              "  <tbody>\n",
              "    <tr>\n",
              "      <th>0</th>\n",
              "      <td>0</td>\n",
              "      <td>1</td>\n",
              "      <td>0</td>\n",
              "    </tr>\n",
              "    <tr>\n",
              "      <th>1</th>\n",
              "      <td>0</td>\n",
              "      <td>1</td>\n",
              "      <td>0</td>\n",
              "    </tr>\n",
              "  </tbody>\n",
              "</table>\n",
              "</div>\n",
              "      <button class=\"colab-df-convert\" onclick=\"convertToInteractive('df-c686cf56-b86f-4aec-a5e5-d56b1b412a9e')\"\n",
              "              title=\"Convert this dataframe to an interactive table.\"\n",
              "              style=\"display:none;\">\n",
              "        \n",
              "  <svg xmlns=\"http://www.w3.org/2000/svg\" height=\"24px\"viewBox=\"0 0 24 24\"\n",
              "       width=\"24px\">\n",
              "    <path d=\"M0 0h24v24H0V0z\" fill=\"none\"/>\n",
              "    <path d=\"M18.56 5.44l.94 2.06.94-2.06 2.06-.94-2.06-.94-.94-2.06-.94 2.06-2.06.94zm-11 1L8.5 8.5l.94-2.06 2.06-.94-2.06-.94L8.5 2.5l-.94 2.06-2.06.94zm10 10l.94 2.06.94-2.06 2.06-.94-2.06-.94-.94-2.06-.94 2.06-2.06.94z\"/><path d=\"M17.41 7.96l-1.37-1.37c-.4-.4-.92-.59-1.43-.59-.52 0-1.04.2-1.43.59L10.3 9.45l-7.72 7.72c-.78.78-.78 2.05 0 2.83L4 21.41c.39.39.9.59 1.41.59.51 0 1.02-.2 1.41-.59l7.78-7.78 2.81-2.81c.8-.78.8-2.07 0-2.86zM5.41 20L4 18.59l7.72-7.72 1.47 1.35L5.41 20z\"/>\n",
              "  </svg>\n",
              "      </button>\n",
              "      \n",
              "  <style>\n",
              "    .colab-df-container {\n",
              "      display:flex;\n",
              "      flex-wrap:wrap;\n",
              "      gap: 12px;\n",
              "    }\n",
              "\n",
              "    .colab-df-convert {\n",
              "      background-color: #E8F0FE;\n",
              "      border: none;\n",
              "      border-radius: 50%;\n",
              "      cursor: pointer;\n",
              "      display: none;\n",
              "      fill: #1967D2;\n",
              "      height: 32px;\n",
              "      padding: 0 0 0 0;\n",
              "      width: 32px;\n",
              "    }\n",
              "\n",
              "    .colab-df-convert:hover {\n",
              "      background-color: #E2EBFA;\n",
              "      box-shadow: 0px 1px 2px rgba(60, 64, 67, 0.3), 0px 1px 3px 1px rgba(60, 64, 67, 0.15);\n",
              "      fill: #174EA6;\n",
              "    }\n",
              "\n",
              "    [theme=dark] .colab-df-convert {\n",
              "      background-color: #3B4455;\n",
              "      fill: #D2E3FC;\n",
              "    }\n",
              "\n",
              "    [theme=dark] .colab-df-convert:hover {\n",
              "      background-color: #434B5C;\n",
              "      box-shadow: 0px 1px 3px 1px rgba(0, 0, 0, 0.15);\n",
              "      filter: drop-shadow(0px 1px 2px rgba(0, 0, 0, 0.3));\n",
              "      fill: #FFFFFF;\n",
              "    }\n",
              "  </style>\n",
              "\n",
              "      <script>\n",
              "        const buttonEl =\n",
              "          document.querySelector('#df-c686cf56-b86f-4aec-a5e5-d56b1b412a9e button.colab-df-convert');\n",
              "        buttonEl.style.display =\n",
              "          google.colab.kernel.accessAllowed ? 'block' : 'none';\n",
              "\n",
              "        async function convertToInteractive(key) {\n",
              "          const element = document.querySelector('#df-c686cf56-b86f-4aec-a5e5-d56b1b412a9e');\n",
              "          const dataTable =\n",
              "            await google.colab.kernel.invokeFunction('convertToInteractive',\n",
              "                                                     [key], {});\n",
              "          if (!dataTable) return;\n",
              "\n",
              "          const docLinkHtml = 'Like what you see? Visit the ' +\n",
              "            '<a target=\"_blank\" href=https://colab.research.google.com/notebooks/data_table.ipynb>data table notebook</a>'\n",
              "            + ' to learn more about interactive tables.';\n",
              "          element.innerHTML = '';\n",
              "          dataTable['output_type'] = 'display_data';\n",
              "          await google.colab.output.renderOutput(dataTable, element);\n",
              "          const docLink = document.createElement('div');\n",
              "          docLink.innerHTML = docLinkHtml;\n",
              "          element.appendChild(docLink);\n",
              "        }\n",
              "      </script>\n",
              "    </div>\n",
              "  </div>\n",
              "  "
            ]
          },
          "metadata": {},
          "execution_count": 20
        }
      ]
    },
    {
      "cell_type": "markdown",
      "source": [
        "## Concatenar com o dataset "
      ],
      "metadata": {
        "id": "BMR_d2MkMenq"
      }
    },
    {
      "cell_type": "code",
      "source": [
        "df2 = pd.concat([transforme.drop(categoricas,axis=1), dummies], axis=1)\n",
        "df2.head(3)"
      ],
      "metadata": {
        "colab": {
          "base_uri": "https://localhost:8080/",
          "height": 272
        },
        "id": "FsVbxISmHeL5",
        "outputId": "37473623-7466-486d-8aaf-f2e130adac1a"
      },
      "execution_count": null,
      "outputs": [
        {
          "output_type": "execute_result",
          "data": {
            "text/plain": [
              "   preco_anuncio  quartoCompartilhado  quarto_privado  num_pessoas  \\\n",
              "0       5.273172                  0.0        0.693147     1.098612   \n",
              "1       5.844257                  0.0        0.693147     1.609438   \n",
              "2       5.580112                  0.0        0.693147     1.098612   \n",
              "\n",
              "   host_superhost  multi_quartos     areas  class_limpeza  satisfacao  \\\n",
              "0             0.0       0.693147  0.000000       2.397895    4.543295   \n",
              "1             0.0       0.000000  0.000000       2.197225    4.454347   \n",
              "2             0.0       0.000000  0.693147       2.302585    4.477337   \n",
              "\n",
              "   quartos_dormir  ...  dist_metro  attr index  attr index norm  rest index  \\\n",
              "0        0.693147  ...    1.263952    4.378149         1.642236    4.597681   \n",
              "1        0.693147  ...    0.214631    6.449168         3.538673    6.731353   \n",
              "2        0.693147  ...    1.537216    4.334357         1.606615    4.568371   \n",
              "\n",
              "   rest index norm      long     latit  tipo_quarto_Entire home/apt  \\\n",
              "0         2.060064  1.775916  3.978143                            0   \n",
              "1         4.083333  1.774961  3.977330                            0   \n",
              "2         2.034274  1.787604  3.977081                            0   \n",
              "\n",
              "   tipo_quarto_Private room  tipo_quarto_Shared room  \n",
              "0                         1                        0  \n",
              "1                         1                        0  \n",
              "2                         1                        0  \n",
              "\n",
              "[3 rows x 21 columns]"
            ],
            "text/html": [
              "\n",
              "  <div id=\"df-734e609a-d86d-4ca1-a1b4-c216d6d42889\">\n",
              "    <div class=\"colab-df-container\">\n",
              "      <div>\n",
              "<style scoped>\n",
              "    .dataframe tbody tr th:only-of-type {\n",
              "        vertical-align: middle;\n",
              "    }\n",
              "\n",
              "    .dataframe tbody tr th {\n",
              "        vertical-align: top;\n",
              "    }\n",
              "\n",
              "    .dataframe thead th {\n",
              "        text-align: right;\n",
              "    }\n",
              "</style>\n",
              "<table border=\"1\" class=\"dataframe\">\n",
              "  <thead>\n",
              "    <tr style=\"text-align: right;\">\n",
              "      <th></th>\n",
              "      <th>preco_anuncio</th>\n",
              "      <th>quartoCompartilhado</th>\n",
              "      <th>quarto_privado</th>\n",
              "      <th>num_pessoas</th>\n",
              "      <th>host_superhost</th>\n",
              "      <th>multi_quartos</th>\n",
              "      <th>areas</th>\n",
              "      <th>class_limpeza</th>\n",
              "      <th>satisfacao</th>\n",
              "      <th>quartos_dormir</th>\n",
              "      <th>...</th>\n",
              "      <th>dist_metro</th>\n",
              "      <th>attr index</th>\n",
              "      <th>attr index norm</th>\n",
              "      <th>rest index</th>\n",
              "      <th>rest index norm</th>\n",
              "      <th>long</th>\n",
              "      <th>latit</th>\n",
              "      <th>tipo_quarto_Entire home/apt</th>\n",
              "      <th>tipo_quarto_Private room</th>\n",
              "      <th>tipo_quarto_Shared room</th>\n",
              "    </tr>\n",
              "  </thead>\n",
              "  <tbody>\n",
              "    <tr>\n",
              "      <th>0</th>\n",
              "      <td>5.273172</td>\n",
              "      <td>0.0</td>\n",
              "      <td>0.693147</td>\n",
              "      <td>1.098612</td>\n",
              "      <td>0.0</td>\n",
              "      <td>0.693147</td>\n",
              "      <td>0.000000</td>\n",
              "      <td>2.397895</td>\n",
              "      <td>4.543295</td>\n",
              "      <td>0.693147</td>\n",
              "      <td>...</td>\n",
              "      <td>1.263952</td>\n",
              "      <td>4.378149</td>\n",
              "      <td>1.642236</td>\n",
              "      <td>4.597681</td>\n",
              "      <td>2.060064</td>\n",
              "      <td>1.775916</td>\n",
              "      <td>3.978143</td>\n",
              "      <td>0</td>\n",
              "      <td>1</td>\n",
              "      <td>0</td>\n",
              "    </tr>\n",
              "    <tr>\n",
              "      <th>1</th>\n",
              "      <td>5.844257</td>\n",
              "      <td>0.0</td>\n",
              "      <td>0.693147</td>\n",
              "      <td>1.609438</td>\n",
              "      <td>0.0</td>\n",
              "      <td>0.000000</td>\n",
              "      <td>0.000000</td>\n",
              "      <td>2.197225</td>\n",
              "      <td>4.454347</td>\n",
              "      <td>0.693147</td>\n",
              "      <td>...</td>\n",
              "      <td>0.214631</td>\n",
              "      <td>6.449168</td>\n",
              "      <td>3.538673</td>\n",
              "      <td>6.731353</td>\n",
              "      <td>4.083333</td>\n",
              "      <td>1.774961</td>\n",
              "      <td>3.977330</td>\n",
              "      <td>0</td>\n",
              "      <td>1</td>\n",
              "      <td>0</td>\n",
              "    </tr>\n",
              "    <tr>\n",
              "      <th>2</th>\n",
              "      <td>5.580112</td>\n",
              "      <td>0.0</td>\n",
              "      <td>0.693147</td>\n",
              "      <td>1.098612</td>\n",
              "      <td>0.0</td>\n",
              "      <td>0.000000</td>\n",
              "      <td>0.693147</td>\n",
              "      <td>2.302585</td>\n",
              "      <td>4.477337</td>\n",
              "      <td>0.693147</td>\n",
              "      <td>...</td>\n",
              "      <td>1.537216</td>\n",
              "      <td>4.334357</td>\n",
              "      <td>1.606615</td>\n",
              "      <td>4.568371</td>\n",
              "      <td>2.034274</td>\n",
              "      <td>1.787604</td>\n",
              "      <td>3.977081</td>\n",
              "      <td>0</td>\n",
              "      <td>1</td>\n",
              "      <td>0</td>\n",
              "    </tr>\n",
              "  </tbody>\n",
              "</table>\n",
              "<p>3 rows × 21 columns</p>\n",
              "</div>\n",
              "      <button class=\"colab-df-convert\" onclick=\"convertToInteractive('df-734e609a-d86d-4ca1-a1b4-c216d6d42889')\"\n",
              "              title=\"Convert this dataframe to an interactive table.\"\n",
              "              style=\"display:none;\">\n",
              "        \n",
              "  <svg xmlns=\"http://www.w3.org/2000/svg\" height=\"24px\"viewBox=\"0 0 24 24\"\n",
              "       width=\"24px\">\n",
              "    <path d=\"M0 0h24v24H0V0z\" fill=\"none\"/>\n",
              "    <path d=\"M18.56 5.44l.94 2.06.94-2.06 2.06-.94-2.06-.94-.94-2.06-.94 2.06-2.06.94zm-11 1L8.5 8.5l.94-2.06 2.06-.94-2.06-.94L8.5 2.5l-.94 2.06-2.06.94zm10 10l.94 2.06.94-2.06 2.06-.94-2.06-.94-.94-2.06-.94 2.06-2.06.94z\"/><path d=\"M17.41 7.96l-1.37-1.37c-.4-.4-.92-.59-1.43-.59-.52 0-1.04.2-1.43.59L10.3 9.45l-7.72 7.72c-.78.78-.78 2.05 0 2.83L4 21.41c.39.39.9.59 1.41.59.51 0 1.02-.2 1.41-.59l7.78-7.78 2.81-2.81c.8-.78.8-2.07 0-2.86zM5.41 20L4 18.59l7.72-7.72 1.47 1.35L5.41 20z\"/>\n",
              "  </svg>\n",
              "      </button>\n",
              "      \n",
              "  <style>\n",
              "    .colab-df-container {\n",
              "      display:flex;\n",
              "      flex-wrap:wrap;\n",
              "      gap: 12px;\n",
              "    }\n",
              "\n",
              "    .colab-df-convert {\n",
              "      background-color: #E8F0FE;\n",
              "      border: none;\n",
              "      border-radius: 50%;\n",
              "      cursor: pointer;\n",
              "      display: none;\n",
              "      fill: #1967D2;\n",
              "      height: 32px;\n",
              "      padding: 0 0 0 0;\n",
              "      width: 32px;\n",
              "    }\n",
              "\n",
              "    .colab-df-convert:hover {\n",
              "      background-color: #E2EBFA;\n",
              "      box-shadow: 0px 1px 2px rgba(60, 64, 67, 0.3), 0px 1px 3px 1px rgba(60, 64, 67, 0.15);\n",
              "      fill: #174EA6;\n",
              "    }\n",
              "\n",
              "    [theme=dark] .colab-df-convert {\n",
              "      background-color: #3B4455;\n",
              "      fill: #D2E3FC;\n",
              "    }\n",
              "\n",
              "    [theme=dark] .colab-df-convert:hover {\n",
              "      background-color: #434B5C;\n",
              "      box-shadow: 0px 1px 3px 1px rgba(0, 0, 0, 0.15);\n",
              "      filter: drop-shadow(0px 1px 2px rgba(0, 0, 0, 0.3));\n",
              "      fill: #FFFFFF;\n",
              "    }\n",
              "  </style>\n",
              "\n",
              "      <script>\n",
              "        const buttonEl =\n",
              "          document.querySelector('#df-734e609a-d86d-4ca1-a1b4-c216d6d42889 button.colab-df-convert');\n",
              "        buttonEl.style.display =\n",
              "          google.colab.kernel.accessAllowed ? 'block' : 'none';\n",
              "\n",
              "        async function convertToInteractive(key) {\n",
              "          const element = document.querySelector('#df-734e609a-d86d-4ca1-a1b4-c216d6d42889');\n",
              "          const dataTable =\n",
              "            await google.colab.kernel.invokeFunction('convertToInteractive',\n",
              "                                                     [key], {});\n",
              "          if (!dataTable) return;\n",
              "\n",
              "          const docLinkHtml = 'Like what you see? Visit the ' +\n",
              "            '<a target=\"_blank\" href=https://colab.research.google.com/notebooks/data_table.ipynb>data table notebook</a>'\n",
              "            + ' to learn more about interactive tables.';\n",
              "          element.innerHTML = '';\n",
              "          dataTable['output_type'] = 'display_data';\n",
              "          await google.colab.output.renderOutput(dataTable, element);\n",
              "          const docLink = document.createElement('div');\n",
              "          docLink.innerHTML = docLinkHtml;\n",
              "          element.appendChild(docLink);\n",
              "        }\n",
              "      </script>\n",
              "    </div>\n",
              "  </div>\n",
              "  "
            ]
          },
          "metadata": {},
          "execution_count": 21
        }
      ]
    },
    {
      "cell_type": "markdown",
      "source": [
        "### Dataset original, sem transformação dos dados"
      ],
      "metadata": {
        "id": "UlGgLGG2Vghi"
      }
    },
    {
      "cell_type": "code",
      "source": [
        "df = pd.concat([df.drop(categoricas,axis=1), dummies], axis=1)\n",
        "df.head(3)"
      ],
      "metadata": {
        "colab": {
          "base_uri": "https://localhost:8080/",
          "height": 272
        },
        "id": "Mf53B-c_VhTr",
        "outputId": "3a6c5d8f-718a-44aa-b54c-c147d47ec767"
      },
      "execution_count": null,
      "outputs": [
        {
          "output_type": "execute_result",
          "data": {
            "text/plain": [
              "   preco_anuncio  quartoCompartilhado  quarto_privado  num_pessoas  \\\n",
              "0     194.033698                False            True          2.0   \n",
              "1     344.245776                False            True          4.0   \n",
              "2     264.101422                False            True          2.0   \n",
              "\n",
              "   host_superhost  multi_quartos  areas  class_limpeza  satisfacao  \\\n",
              "0           False              1      0           10.0        93.0   \n",
              "1           False              0      0            8.0        85.0   \n",
              "2           False              0      1            9.0        87.0   \n",
              "\n",
              "   quartos_dormir  ...  dist_metro  attr index  attr index norm  rest index  \\\n",
              "0               1  ...    2.539380   78.690379         4.166708   98.253896   \n",
              "1               1  ...    0.239404  631.176378        33.421209  837.280757   \n",
              "2               1  ...    3.651621   75.275877         3.985908   95.386955   \n",
              "\n",
              "   rest index norm     long     latit  tipo_quarto_Entire home/apt  \\\n",
              "0         6.846473  4.90569  52.41772                            0   \n",
              "1        58.342928  4.90005  52.37432                            0   \n",
              "2         6.646700  4.97512  52.36103                            0   \n",
              "\n",
              "   tipo_quarto_Private room  tipo_quarto_Shared room  \n",
              "0                         1                        0  \n",
              "1                         1                        0  \n",
              "2                         1                        0  \n",
              "\n",
              "[3 rows x 21 columns]"
            ],
            "text/html": [
              "\n",
              "  <div id=\"df-f0a750c5-5ae2-4185-9d70-e46c7466ab21\">\n",
              "    <div class=\"colab-df-container\">\n",
              "      <div>\n",
              "<style scoped>\n",
              "    .dataframe tbody tr th:only-of-type {\n",
              "        vertical-align: middle;\n",
              "    }\n",
              "\n",
              "    .dataframe tbody tr th {\n",
              "        vertical-align: top;\n",
              "    }\n",
              "\n",
              "    .dataframe thead th {\n",
              "        text-align: right;\n",
              "    }\n",
              "</style>\n",
              "<table border=\"1\" class=\"dataframe\">\n",
              "  <thead>\n",
              "    <tr style=\"text-align: right;\">\n",
              "      <th></th>\n",
              "      <th>preco_anuncio</th>\n",
              "      <th>quartoCompartilhado</th>\n",
              "      <th>quarto_privado</th>\n",
              "      <th>num_pessoas</th>\n",
              "      <th>host_superhost</th>\n",
              "      <th>multi_quartos</th>\n",
              "      <th>areas</th>\n",
              "      <th>class_limpeza</th>\n",
              "      <th>satisfacao</th>\n",
              "      <th>quartos_dormir</th>\n",
              "      <th>...</th>\n",
              "      <th>dist_metro</th>\n",
              "      <th>attr index</th>\n",
              "      <th>attr index norm</th>\n",
              "      <th>rest index</th>\n",
              "      <th>rest index norm</th>\n",
              "      <th>long</th>\n",
              "      <th>latit</th>\n",
              "      <th>tipo_quarto_Entire home/apt</th>\n",
              "      <th>tipo_quarto_Private room</th>\n",
              "      <th>tipo_quarto_Shared room</th>\n",
              "    </tr>\n",
              "  </thead>\n",
              "  <tbody>\n",
              "    <tr>\n",
              "      <th>0</th>\n",
              "      <td>194.033698</td>\n",
              "      <td>False</td>\n",
              "      <td>True</td>\n",
              "      <td>2.0</td>\n",
              "      <td>False</td>\n",
              "      <td>1</td>\n",
              "      <td>0</td>\n",
              "      <td>10.0</td>\n",
              "      <td>93.0</td>\n",
              "      <td>1</td>\n",
              "      <td>...</td>\n",
              "      <td>2.539380</td>\n",
              "      <td>78.690379</td>\n",
              "      <td>4.166708</td>\n",
              "      <td>98.253896</td>\n",
              "      <td>6.846473</td>\n",
              "      <td>4.90569</td>\n",
              "      <td>52.41772</td>\n",
              "      <td>0</td>\n",
              "      <td>1</td>\n",
              "      <td>0</td>\n",
              "    </tr>\n",
              "    <tr>\n",
              "      <th>1</th>\n",
              "      <td>344.245776</td>\n",
              "      <td>False</td>\n",
              "      <td>True</td>\n",
              "      <td>4.0</td>\n",
              "      <td>False</td>\n",
              "      <td>0</td>\n",
              "      <td>0</td>\n",
              "      <td>8.0</td>\n",
              "      <td>85.0</td>\n",
              "      <td>1</td>\n",
              "      <td>...</td>\n",
              "      <td>0.239404</td>\n",
              "      <td>631.176378</td>\n",
              "      <td>33.421209</td>\n",
              "      <td>837.280757</td>\n",
              "      <td>58.342928</td>\n",
              "      <td>4.90005</td>\n",
              "      <td>52.37432</td>\n",
              "      <td>0</td>\n",
              "      <td>1</td>\n",
              "      <td>0</td>\n",
              "    </tr>\n",
              "    <tr>\n",
              "      <th>2</th>\n",
              "      <td>264.101422</td>\n",
              "      <td>False</td>\n",
              "      <td>True</td>\n",
              "      <td>2.0</td>\n",
              "      <td>False</td>\n",
              "      <td>0</td>\n",
              "      <td>1</td>\n",
              "      <td>9.0</td>\n",
              "      <td>87.0</td>\n",
              "      <td>1</td>\n",
              "      <td>...</td>\n",
              "      <td>3.651621</td>\n",
              "      <td>75.275877</td>\n",
              "      <td>3.985908</td>\n",
              "      <td>95.386955</td>\n",
              "      <td>6.646700</td>\n",
              "      <td>4.97512</td>\n",
              "      <td>52.36103</td>\n",
              "      <td>0</td>\n",
              "      <td>1</td>\n",
              "      <td>0</td>\n",
              "    </tr>\n",
              "  </tbody>\n",
              "</table>\n",
              "<p>3 rows × 21 columns</p>\n",
              "</div>\n",
              "      <button class=\"colab-df-convert\" onclick=\"convertToInteractive('df-f0a750c5-5ae2-4185-9d70-e46c7466ab21')\"\n",
              "              title=\"Convert this dataframe to an interactive table.\"\n",
              "              style=\"display:none;\">\n",
              "        \n",
              "  <svg xmlns=\"http://www.w3.org/2000/svg\" height=\"24px\"viewBox=\"0 0 24 24\"\n",
              "       width=\"24px\">\n",
              "    <path d=\"M0 0h24v24H0V0z\" fill=\"none\"/>\n",
              "    <path d=\"M18.56 5.44l.94 2.06.94-2.06 2.06-.94-2.06-.94-.94-2.06-.94 2.06-2.06.94zm-11 1L8.5 8.5l.94-2.06 2.06-.94-2.06-.94L8.5 2.5l-.94 2.06-2.06.94zm10 10l.94 2.06.94-2.06 2.06-.94-2.06-.94-.94-2.06-.94 2.06-2.06.94z\"/><path d=\"M17.41 7.96l-1.37-1.37c-.4-.4-.92-.59-1.43-.59-.52 0-1.04.2-1.43.59L10.3 9.45l-7.72 7.72c-.78.78-.78 2.05 0 2.83L4 21.41c.39.39.9.59 1.41.59.51 0 1.02-.2 1.41-.59l7.78-7.78 2.81-2.81c.8-.78.8-2.07 0-2.86zM5.41 20L4 18.59l7.72-7.72 1.47 1.35L5.41 20z\"/>\n",
              "  </svg>\n",
              "      </button>\n",
              "      \n",
              "  <style>\n",
              "    .colab-df-container {\n",
              "      display:flex;\n",
              "      flex-wrap:wrap;\n",
              "      gap: 12px;\n",
              "    }\n",
              "\n",
              "    .colab-df-convert {\n",
              "      background-color: #E8F0FE;\n",
              "      border: none;\n",
              "      border-radius: 50%;\n",
              "      cursor: pointer;\n",
              "      display: none;\n",
              "      fill: #1967D2;\n",
              "      height: 32px;\n",
              "      padding: 0 0 0 0;\n",
              "      width: 32px;\n",
              "    }\n",
              "\n",
              "    .colab-df-convert:hover {\n",
              "      background-color: #E2EBFA;\n",
              "      box-shadow: 0px 1px 2px rgba(60, 64, 67, 0.3), 0px 1px 3px 1px rgba(60, 64, 67, 0.15);\n",
              "      fill: #174EA6;\n",
              "    }\n",
              "\n",
              "    [theme=dark] .colab-df-convert {\n",
              "      background-color: #3B4455;\n",
              "      fill: #D2E3FC;\n",
              "    }\n",
              "\n",
              "    [theme=dark] .colab-df-convert:hover {\n",
              "      background-color: #434B5C;\n",
              "      box-shadow: 0px 1px 3px 1px rgba(0, 0, 0, 0.15);\n",
              "      filter: drop-shadow(0px 1px 2px rgba(0, 0, 0, 0.3));\n",
              "      fill: #FFFFFF;\n",
              "    }\n",
              "  </style>\n",
              "\n",
              "      <script>\n",
              "        const buttonEl =\n",
              "          document.querySelector('#df-f0a750c5-5ae2-4185-9d70-e46c7466ab21 button.colab-df-convert');\n",
              "        buttonEl.style.display =\n",
              "          google.colab.kernel.accessAllowed ? 'block' : 'none';\n",
              "\n",
              "        async function convertToInteractive(key) {\n",
              "          const element = document.querySelector('#df-f0a750c5-5ae2-4185-9d70-e46c7466ab21');\n",
              "          const dataTable =\n",
              "            await google.colab.kernel.invokeFunction('convertToInteractive',\n",
              "                                                     [key], {});\n",
              "          if (!dataTable) return;\n",
              "\n",
              "          const docLinkHtml = 'Like what you see? Visit the ' +\n",
              "            '<a target=\"_blank\" href=https://colab.research.google.com/notebooks/data_table.ipynb>data table notebook</a>'\n",
              "            + ' to learn more about interactive tables.';\n",
              "          element.innerHTML = '';\n",
              "          dataTable['output_type'] = 'display_data';\n",
              "          await google.colab.output.renderOutput(dataTable, element);\n",
              "          const docLink = document.createElement('div');\n",
              "          docLink.innerHTML = docLinkHtml;\n",
              "          element.appendChild(docLink);\n",
              "        }\n",
              "      </script>\n",
              "    </div>\n",
              "  </div>\n",
              "  "
            ]
          },
          "metadata": {},
          "execution_count": 22
        }
      ]
    },
    {
      "cell_type": "markdown",
      "source": [
        "## Verificar se houve um aumento na correlação das variáveis"
      ],
      "metadata": {
        "id": "Xfc7rkEpMrA6"
      }
    },
    {
      "cell_type": "code",
      "source": [
        "data = df2.corr()\n",
        "\n",
        "fig, plot = plt.subplots(figsize=(20,6))\n",
        "plot = sns.heatmap(data, annot = True, fmt=\".1f\", linewidths=.10)\n",
        "plot"
      ],
      "metadata": {
        "colab": {
          "base_uri": "https://localhost:8080/",
          "height": 431
        },
        "id": "hsaNdudbHwjQ",
        "outputId": "c49c80dc-a772-4dbf-b0fa-cda9b5686f6d"
      },
      "execution_count": null,
      "outputs": [
        {
          "output_type": "execute_result",
          "data": {
            "text/plain": [
              "<matplotlib.axes._subplots.AxesSubplot at 0x7f210c5492e0>"
            ]
          },
          "metadata": {},
          "execution_count": 23
        },
        {
          "output_type": "display_data",
          "data": {
            "text/plain": [
              "<Figure size 1440x432 with 2 Axes>"
            ],
            "image/png": "[encoded data removed]"
          },
          "metadata": {
            "needs_background": "light"
          }
        }
      ]
    },
    {
      "cell_type": "markdown",
      "source": [
        "## Distribuição de Frequência de cada variável"
      ],
      "metadata": {
        "id": "JrQnhsINOOJ7"
      }
    },
    {
      "cell_type": "markdown",
      "source": [
        "### Dispersão positiva"
      ],
      "metadata": {
        "id": "vLCkYgdKOPRS"
      }
    },
    {
      "cell_type": "code",
      "source": [
        "df2.columns"
      ],
      "metadata": {
        "colab": {
          "base_uri": "https://localhost:8080/"
        },
        "id": "HiPvir5nMzoh",
        "outputId": "64bb49ea-00fb-47eb-e18a-3261f78c637c"
      },
      "execution_count": null,
      "outputs": [
        {
          "output_type": "execute_result",
          "data": {
            "text/plain": [
              "Index(['preco_anuncio', 'quartoCompartilhado', 'quarto_privado', 'num_pessoas',\n",
              "       'host_superhost', 'multi_quartos', 'areas', 'class_limpeza',\n",
              "       'satisfacao', 'quartos_dormir', 'dist_centro', 'dist_metro',\n",
              "       'attr index', 'attr index norm', 'rest index', 'rest index norm',\n",
              "       'long', 'latit', 'tipo_quarto_Entire home/apt',\n",
              "       'tipo_quarto_Private room', 'tipo_quarto_Shared room'],\n",
              "      dtype='object')"
            ]
          },
          "metadata": {},
          "execution_count": 24
        }
      ]
    },
    {
      "cell_type": "code",
      "source": [
        "ax = sns.pairplot(df2, y_vars='preco_anuncio', x_vars=['num_pessoas','satisfacao',\n",
        "                                                      'quartos_dormir','tipo_quarto_Entire home/apt'], kind='reg')\n",
        "\n",
        "ax.fig.suptitle('Dispersão entre as Variáveis',fontsize=15, y=1.07)\n",
        "# Quanto mais espalhados os dados, maiores os erros\n",
        "# Chuva tem uma relação negativa"
      ],
      "metadata": {
        "colab": {
          "base_uri": "https://localhost:8080/",
          "height": 234
        },
        "id": "VVPuwHIpNWpA",
        "outputId": "63529c7d-5ba0-4ede-f791-36e1f5ad7037"
      },
      "execution_count": null,
      "outputs": [
        {
          "output_type": "execute_result",
          "data": {
            "text/plain": [
              "Text(0.5, 1.07, 'Dispersão entre as Variáveis')"
            ]
          },
          "metadata": {},
          "execution_count": 25
        },
        {
          "output_type": "display_data",
          "data": {
            "text/plain": [
              "<Figure size 720x180 with 4 Axes>"
            ],
            "image/png": "[encoded data removed]"
          },
          "metadata": {
            "needs_background": "light"
          }
        }
      ]
    },
    {
      "cell_type": "markdown",
      "source": [
        "### Dispersão negativa"
      ],
      "metadata": {
        "id": "1wtxxSmCOXjy"
      }
    },
    {
      "cell_type": "code",
      "source": [
        "ax = sns.pairplot(df2, y_vars='preco_anuncio', x_vars=['quarto_privado','multi_quartos',\n",
        "                                                      'dist_centro','tipo_quarto_Private room'], kind='reg')\n",
        "\n",
        "ax.fig.suptitle('Dispersão entre as Variáveis',fontsize=15, y=1.07)\n",
        "# Quanto mais espalhados os dados, maiores os erros"
      ],
      "metadata": {
        "colab": {
          "base_uri": "https://localhost:8080/",
          "height": 234
        },
        "id": "vj9SXzJyNyqT",
        "outputId": "3e774fb6-5457-4eb1-9f95-510d6e1cbd8c"
      },
      "execution_count": null,
      "outputs": [
        {
          "output_type": "execute_result",
          "data": {
            "text/plain": [
              "Text(0.5, 1.07, 'Dispersão entre as Variáveis')"
            ]
          },
          "metadata": {},
          "execution_count": 26
        },
        {
          "output_type": "display_data",
          "data": {
            "text/plain": [
              "<Figure size 720x180 with 4 Axes>"
            ],
            "image/png": "[encoded data removed]"
          },
          "metadata": {
            "needs_background": "light"
          }
        }
      ]
    },
    {
      "cell_type": "markdown",
      "source": [
        "## <font color=blue>Regression Linear\n",
        "\n",
        "> Regressão linear é um modelo matemático que consegue, a partir da entrada de fenômenos, prever a causalidade deles. No caso da aplicação com dados imobiliários, conseguimos predizer um valor de um imóvel a partir da entrada de dados como a zona, quantidade de cômodos, dentre outras características.\n",
        "\n",
        "> Essa predição vem do ajuste de uma reta (ou linha) que contempla uma função de relação de dados. Por essa função ter características lineares, chamamos o modelo de aprendizado de Regressão Linear."
      ],
      "metadata": {
        "id": "oZXhaLN2Rc8K"
      }
    },
    {
      "cell_type": "markdown",
      "source": [
        "![image.png](data:image/png;base64,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)"
      ],
      "metadata": {
        "id": "gu2RmUBbRhI8"
      }
    },
    {
      "cell_type": "markdown",
      "source": [
        "### Treinando os dados\n",
        "**1° modelo: será com todas as variáveis**"
      ],
      "metadata": {
        "id": "mWqw19V7Rkmz"
      }
    },
    {
      "cell_type": "code",
      "source": [
        "from sklearn.model_selection import train_test_split\n",
        "\n",
        "x = df2.drop('preco_anuncio', axis=1)\n",
        "y = df2['preco_anuncio']\n",
        "\n",
        "x_treino, x_teste, y_treino, y_teste = train_test_split(x,y, test_size=0.3,\n",
        "                                                        random_state=350)"
      ],
      "metadata": {
        "id": "UH6qHWEmOJFh"
      },
      "execution_count": null,
      "outputs": []
    },
    {
      "cell_type": "markdown",
      "source": [
        "### Criando o modelo e treinando com o modelo criado"
      ],
      "metadata": {
        "id": "afYcmPZmSQZt"
      }
    },
    {
      "cell_type": "code",
      "source": [
        "from sklearn.linear_model import LinearRegression\n",
        "from sklearn import metrics"
      ],
      "metadata": {
        "id": "teG9y9d4SJQa"
      },
      "execution_count": null,
      "outputs": []
    },
    {
      "cell_type": "code",
      "source": [
        "LR = LinearRegression()\n",
        "LR.fit(x_treino, y_treino)\n",
        "print('score de acerto do treino:',LR.score(x_treino, y_treino).round(2))"
      ],
      "metadata": {
        "colab": {
          "base_uri": "https://localhost:8080/"
        },
        "id": "suf1adTFSXNx",
        "outputId": "97853929-5d01-420e-96b6-9a3be8e145df"
      },
      "execution_count": null,
      "outputs": [
        {
          "output_type": "stream",
          "name": "stdout",
          "text": [
            "score de acerto do treino: 0.69\n"
          ]
        }
      ]
    },
    {
      "cell_type": "markdown",
      "source": [
        "### Previsto de acerto do teste"
      ],
      "metadata": {
        "id": "D9z1KbdxTdd9"
      }
    },
    {
      "cell_type": "code",
      "source": [
        "previsto = LR.predict(x_teste)\n",
        "print('score de acerto do teste:',metrics.r2_score(y_teste, previsto).round(2))"
      ],
      "metadata": {
        "colab": {
          "base_uri": "https://localhost:8080/"
        },
        "id": "ZvhgyPeuSjQx",
        "outputId": "acb0ebd7-2788-46ee-f527-1360415b31d2"
      },
      "execution_count": null,
      "outputs": [
        {
          "output_type": "stream",
          "name": "stdout",
          "text": [
            "score de acerto do teste: 0.67\n"
          ]
        }
      ]
    },
    {
      "cell_type": "markdown",
      "source": [
        "### **Este dataset foi transformado, p/ verifcar os valores reais da previsão, precisa inverter a transformação**"
      ],
      "metadata": {
        "id": "3WFPYvSFTtAr"
      }
    },
    {
      "cell_type": "code",
      "source": [
        "previsto_df = pd.DataFrame(previsto)\n",
        "previsto_df.head(7)"
      ],
      "metadata": {
        "colab": {
          "base_uri": "https://localhost:8080/",
          "height": 269
        },
        "id": "lLlh8sKhTJL4",
        "outputId": "ebaf08e6-0649-49c8-a0a3-051d2cb30e0e"
      },
      "execution_count": null,
      "outputs": [
        {
          "output_type": "execute_result",
          "data": {
            "text/plain": [
              "          0\n",
              "0  6.969650\n",
              "1  5.791589\n",
              "2  5.957503\n",
              "3  5.318368\n",
              "4  6.420663\n",
              "5  6.467076\n",
              "6  6.166438"
            ],
            "text/html": [
              "\n",
              "  <div id=\"df-ea6eab91-eceb-4386-93a4-fe3b2bcecf5f\">\n",
              "    <div class=\"colab-df-container\">\n",
              "      <div>\n",
              "<style scoped>\n",
              "    .dataframe tbody tr th:only-of-type {\n",
              "        vertical-align: middle;\n",
              "    }\n",
              "\n",
              "    .dataframe tbody tr th {\n",
              "        vertical-align: top;\n",
              "    }\n",
              "\n",
              "    .dataframe thead th {\n",
              "        text-align: right;\n",
              "    }\n",
              "</style>\n",
              "<table border=\"1\" class=\"dataframe\">\n",
              "  <thead>\n",
              "    <tr style=\"text-align: right;\">\n",
              "      <th></th>\n",
              "      <th>0</th>\n",
              "    </tr>\n",
              "  </thead>\n",
              "  <tbody>\n",
              "    <tr>\n",
              "      <th>0</th>\n",
              "      <td>6.969650</td>\n",
              "    </tr>\n",
              "    <tr>\n",
              "      <th>1</th>\n",
              "      <td>5.791589</td>\n",
              "    </tr>\n",
              "    <tr>\n",
              "      <th>2</th>\n",
              "      <td>5.957503</td>\n",
              "    </tr>\n",
              "    <tr>\n",
              "      <th>3</th>\n",
              "      <td>5.318368</td>\n",
              "    </tr>\n",
              "    <tr>\n",
              "      <th>4</th>\n",
              "      <td>6.420663</td>\n",
              "    </tr>\n",
              "    <tr>\n",
              "      <th>5</th>\n",
              "      <td>6.467076</td>\n",
              "    </tr>\n",
              "    <tr>\n",
              "      <th>6</th>\n",
              "      <td>6.166438</td>\n",
              "    </tr>\n",
              "  </tbody>\n",
              "</table>\n",
              "</div>\n",
              "      <button class=\"colab-df-convert\" onclick=\"convertToInteractive('df-ea6eab91-eceb-4386-93a4-fe3b2bcecf5f')\"\n",
              "              title=\"Convert this dataframe to an interactive table.\"\n",
              "              style=\"display:none;\">\n",
              "        \n",
              "  <svg xmlns=\"http://www.w3.org/2000/svg\" height=\"24px\"viewBox=\"0 0 24 24\"\n",
              "       width=\"24px\">\n",
              "    <path d=\"M0 0h24v24H0V0z\" fill=\"none\"/>\n",
              "    <path d=\"M18.56 5.44l.94 2.06.94-2.06 2.06-.94-2.06-.94-.94-2.06-.94 2.06-2.06.94zm-11 1L8.5 8.5l.94-2.06 2.06-.94-2.06-.94L8.5 2.5l-.94 2.06-2.06.94zm10 10l.94 2.06.94-2.06 2.06-.94-2.06-.94-.94-2.06-.94 2.06-2.06.94z\"/><path d=\"M17.41 7.96l-1.37-1.37c-.4-.4-.92-.59-1.43-.59-.52 0-1.04.2-1.43.59L10.3 9.45l-7.72 7.72c-.78.78-.78 2.05 0 2.83L4 21.41c.39.39.9.59 1.41.59.51 0 1.02-.2 1.41-.59l7.78-7.78 2.81-2.81c.8-.78.8-2.07 0-2.86zM5.41 20L4 18.59l7.72-7.72 1.47 1.35L5.41 20z\"/>\n",
              "  </svg>\n",
              "      </button>\n",
              "      \n",
              "  <style>\n",
              "    .colab-df-container {\n",
              "      display:flex;\n",
              "      flex-wrap:wrap;\n",
              "      gap: 12px;\n",
              "    }\n",
              "\n",
              "    .colab-df-convert {\n",
              "      background-color: #E8F0FE;\n",
              "      border: none;\n",
              "      border-radius: 50%;\n",
              "      cursor: pointer;\n",
              "      display: none;\n",
              "      fill: #1967D2;\n",
              "      height: 32px;\n",
              "      padding: 0 0 0 0;\n",
              "      width: 32px;\n",
              "    }\n",
              "\n",
              "    .colab-df-convert:hover {\n",
              "      background-color: #E2EBFA;\n",
              "      box-shadow: 0px 1px 2px rgba(60, 64, 67, 0.3), 0px 1px 3px 1px rgba(60, 64, 67, 0.15);\n",
              "      fill: #174EA6;\n",
              "    }\n",
              "\n",
              "    [theme=dark] .colab-df-convert {\n",
              "      background-color: #3B4455;\n",
              "      fill: #D2E3FC;\n",
              "    }\n",
              "\n",
              "    [theme=dark] .colab-df-convert:hover {\n",
              "      background-color: #434B5C;\n",
              "      box-shadow: 0px 1px 3px 1px rgba(0, 0, 0, 0.15);\n",
              "      filter: drop-shadow(0px 1px 2px rgba(0, 0, 0, 0.3));\n",
              "      fill: #FFFFFF;\n",
              "    }\n",
              "  </style>\n",
              "\n",
              "      <script>\n",
              "        const buttonEl =\n",
              "          document.querySelector('#df-ea6eab91-eceb-4386-93a4-fe3b2bcecf5f button.colab-df-convert');\n",
              "        buttonEl.style.display =\n",
              "          google.colab.kernel.accessAllowed ? 'block' : 'none';\n",
              "\n",
              "        async function convertToInteractive(key) {\n",
              "          const element = document.querySelector('#df-ea6eab91-eceb-4386-93a4-fe3b2bcecf5f');\n",
              "          const dataTable =\n",
              "            await google.colab.kernel.invokeFunction('convertToInteractive',\n",
              "                                                     [key], {});\n",
              "          if (!dataTable) return;\n",
              "\n",
              "          const docLinkHtml = 'Like what you see? Visit the ' +\n",
              "            '<a target=\"_blank\" href=https://colab.research.google.com/notebooks/data_table.ipynb>data table notebook</a>'\n",
              "            + ' to learn more about interactive tables.';\n",
              "          element.innerHTML = '';\n",
              "          dataTable['output_type'] = 'display_data';\n",
              "          await google.colab.output.renderOutput(dataTable, element);\n",
              "          const docLink = document.createElement('div');\n",
              "          docLink.innerHTML = docLinkHtml;\n",
              "          element.appendChild(docLink);\n",
              "        }\n",
              "      </script>\n",
              "    </div>\n",
              "  </div>\n",
              "  "
            ]
          },
          "metadata": {},
          "execution_count": 31
        }
      ]
    },
    {
      "cell_type": "code",
      "source": [
        "# Valor do anúncio 7° posição\n",
        "np.expm1(6.166438)"
      ],
      "metadata": {
        "colab": {
          "base_uri": "https://localhost:8080/"
        },
        "id": "xEbWnH-gTndQ",
        "outputId": "1fc75c23-119c-4395-9096-a03be35307a4"
      },
      "execution_count": null,
      "outputs": [
        {
          "output_type": "execute_result",
          "data": {
            "text/plain": [
              "475.4858371560696"
            ]
          },
          "metadata": {},
          "execution_count": 32
        }
      ]
    },
    {
      "cell_type": "markdown",
      "source": [
        "### <font color=blue>Refazer o treino de máquina somente com Dataset original, sem transformação dos dados"
      ],
      "metadata": {
        "id": "nmWG7zFMUms0"
      }
    },
    {
      "cell_type": "markdown",
      "source": [
        "**2° modelo: Criando o modelo e treinando com o modelo criado**"
      ],
      "metadata": {
        "id": "P2gwDQ0yYneq"
      }
    },
    {
      "cell_type": "code",
      "source": [
        "from sklearn.model_selection import train_test_split\n",
        "\n",
        "x2 = df.drop('preco_anuncio', axis=1)\n",
        "y2 = df['preco_anuncio']\n",
        "\n",
        "x_treino2, x_teste2, y_treino2, y_teste2 = train_test_split(x2,y2, test_size=0.3,\n",
        "                                                        random_state=350)"
      ],
      "metadata": {
        "id": "xg4YDooIT93p"
      },
      "execution_count": null,
      "outputs": []
    },
    {
      "cell_type": "code",
      "source": [
        "LR = LinearRegression()\n",
        "LR.fit(x_treino2, y_treino2)\n",
        "print('score de acerto do treino:',LR.score(x_treino2, y_treino2).round(2))"
      ],
      "metadata": {
        "colab": {
          "base_uri": "https://localhost:8080/"
        },
        "id": "8gkvJYuPV2cc",
        "outputId": "c1c5c810-e35c-4793-81b5-87d894380831"
      },
      "execution_count": null,
      "outputs": [
        {
          "output_type": "stream",
          "name": "stdout",
          "text": [
            "score de acerto do treino: 0.54\n"
          ]
        }
      ]
    },
    {
      "cell_type": "markdown",
      "source": [
        "**Previsto de acerto do teste**"
      ],
      "metadata": {
        "id": "IN3Rc-HgYr-s"
      }
    },
    {
      "cell_type": "code",
      "source": [
        "previsto2 = LR.predict(x_teste2)\n",
        "print('score de acerto do teste:',metrics.r2_score(y_teste2, previsto2).round(2))"
      ],
      "metadata": {
        "colab": {
          "base_uri": "https://localhost:8080/"
        },
        "id": "Y3CyOv0ZV5Jo",
        "outputId": "972c082b-ede0-4f28-e6a8-30040e1c9e96"
      },
      "execution_count": null,
      "outputs": [
        {
          "output_type": "stream",
          "name": "stdout",
          "text": [
            "score de acerto do teste: 0.3\n"
          ]
        }
      ]
    },
    {
      "cell_type": "code",
      "source": [
        "previsto_df2 = pd.DataFrame(previsto2)\n",
        "previsto_df2.head(7)\n",
        "# Valor do 7° anuncio 506.264651"
      ],
      "metadata": {
        "colab": {
          "base_uri": "https://localhost:8080/",
          "height": 269
        },
        "id": "fbvixKLhV_QQ",
        "outputId": "3915c51f-683b-40ff-a50c-24457aca7267"
      },
      "execution_count": null,
      "outputs": [
        {
          "output_type": "execute_result",
          "data": {
            "text/plain": [
              "             0\n",
              "0  1028.465776\n",
              "1   331.217940\n",
              "2   442.043168\n",
              "3    17.742042\n",
              "4   735.843304\n",
              "5   681.227809\n",
              "6   506.264651"
            ],
            "text/html": [
              "\n",
              "  <div id=\"df-a121dede-e1e0-4ce7-8eeb-af70e413043f\">\n",
              "    <div class=\"colab-df-container\">\n",
              "      <div>\n",
              "<style scoped>\n",
              "    .dataframe tbody tr th:only-of-type {\n",
              "        vertical-align: middle;\n",
              "    }\n",
              "\n",
              "    .dataframe tbody tr th {\n",
              "        vertical-align: top;\n",
              "    }\n",
              "\n",
              "    .dataframe thead th {\n",
              "        text-align: right;\n",
              "    }\n",
              "</style>\n",
              "<table border=\"1\" class=\"dataframe\">\n",
              "  <thead>\n",
              "    <tr style=\"text-align: right;\">\n",
              "      <th></th>\n",
              "      <th>0</th>\n",
              "    </tr>\n",
              "  </thead>\n",
              "  <tbody>\n",
              "    <tr>\n",
              "      <th>0</th>\n",
              "      <td>1028.465776</td>\n",
              "    </tr>\n",
              "    <tr>\n",
              "      <th>1</th>\n",
              "      <td>331.217940</td>\n",
              "    </tr>\n",
              "    <tr>\n",
              "      <th>2</th>\n",
              "      <td>442.043168</td>\n",
              "    </tr>\n",
              "    <tr>\n",
              "      <th>3</th>\n",
              "      <td>17.742042</td>\n",
              "    </tr>\n",
              "    <tr>\n",
              "      <th>4</th>\n",
              "      <td>735.843304</td>\n",
              "    </tr>\n",
              "    <tr>\n",
              "      <th>5</th>\n",
              "      <td>681.227809</td>\n",
              "    </tr>\n",
              "    <tr>\n",
              "      <th>6</th>\n",
              "      <td>506.264651</td>\n",
              "    </tr>\n",
              "  </tbody>\n",
              "</table>\n",
              "</div>\n",
              "      <button class=\"colab-df-convert\" onclick=\"convertToInteractive('df-a121dede-e1e0-4ce7-8eeb-af70e413043f')\"\n",
              "              title=\"Convert this dataframe to an interactive table.\"\n",
              "              style=\"display:none;\">\n",
              "        \n",
              "  <svg xmlns=\"http://www.w3.org/2000/svg\" height=\"24px\"viewBox=\"0 0 24 24\"\n",
              "       width=\"24px\">\n",
              "    <path d=\"M0 0h24v24H0V0z\" fill=\"none\"/>\n",
              "    <path d=\"M18.56 5.44l.94 2.06.94-2.06 2.06-.94-2.06-.94-.94-2.06-.94 2.06-2.06.94zm-11 1L8.5 8.5l.94-2.06 2.06-.94-2.06-.94L8.5 2.5l-.94 2.06-2.06.94zm10 10l.94 2.06.94-2.06 2.06-.94-2.06-.94-.94-2.06-.94 2.06-2.06.94z\"/><path d=\"M17.41 7.96l-1.37-1.37c-.4-.4-.92-.59-1.43-.59-.52 0-1.04.2-1.43.59L10.3 9.45l-7.72 7.72c-.78.78-.78 2.05 0 2.83L4 21.41c.39.39.9.59 1.41.59.51 0 1.02-.2 1.41-.59l7.78-7.78 2.81-2.81c.8-.78.8-2.07 0-2.86zM5.41 20L4 18.59l7.72-7.72 1.47 1.35L5.41 20z\"/>\n",
              "  </svg>\n",
              "      </button>\n",
              "      \n",
              "  <style>\n",
              "    .colab-df-container {\n",
              "      display:flex;\n",
              "      flex-wrap:wrap;\n",
              "      gap: 12px;\n",
              "    }\n",
              "\n",
              "    .colab-df-convert {\n",
              "      background-color: #E8F0FE;\n",
              "      border: none;\n",
              "      border-radius: 50%;\n",
              "      cursor: pointer;\n",
              "      display: none;\n",
              "      fill: #1967D2;\n",
              "      height: 32px;\n",
              "      padding: 0 0 0 0;\n",
              "      width: 32px;\n",
              "    }\n",
              "\n",
              "    .colab-df-convert:hover {\n",
              "      background-color: #E2EBFA;\n",
              "      box-shadow: 0px 1px 2px rgba(60, 64, 67, 0.3), 0px 1px 3px 1px rgba(60, 64, 67, 0.15);\n",
              "      fill: #174EA6;\n",
              "    }\n",
              "\n",
              "    [theme=dark] .colab-df-convert {\n",
              "      background-color: #3B4455;\n",
              "      fill: #D2E3FC;\n",
              "    }\n",
              "\n",
              "    [theme=dark] .colab-df-convert:hover {\n",
              "      background-color: #434B5C;\n",
              "      box-shadow: 0px 1px 3px 1px rgba(0, 0, 0, 0.15);\n",
              "      filter: drop-shadow(0px 1px 2px rgba(0, 0, 0, 0.3));\n",
              "      fill: #FFFFFF;\n",
              "    }\n",
              "  </style>\n",
              "\n",
              "      <script>\n",
              "        const buttonEl =\n",
              "          document.querySelector('#df-a121dede-e1e0-4ce7-8eeb-af70e413043f button.colab-df-convert');\n",
              "        buttonEl.style.display =\n",
              "          google.colab.kernel.accessAllowed ? 'block' : 'none';\n",
              "\n",
              "        async function convertToInteractive(key) {\n",
              "          const element = document.querySelector('#df-a121dede-e1e0-4ce7-8eeb-af70e413043f');\n",
              "          const dataTable =\n",
              "            await google.colab.kernel.invokeFunction('convertToInteractive',\n",
              "                                                     [key], {});\n",
              "          if (!dataTable) return;\n",
              "\n",
              "          const docLinkHtml = 'Like what you see? Visit the ' +\n",
              "            '<a target=\"_blank\" href=https://colab.research.google.com/notebooks/data_table.ipynb>data table notebook</a>'\n",
              "            + ' to learn more about interactive tables.';\n",
              "          element.innerHTML = '';\n",
              "          dataTable['output_type'] = 'display_data';\n",
              "          await google.colab.output.renderOutput(dataTable, element);\n",
              "          const docLink = document.createElement('div');\n",
              "          docLink.innerHTML = docLinkHtml;\n",
              "          element.appendChild(docLink);\n",
              "        }\n",
              "      </script>\n",
              "    </div>\n",
              "  </div>\n",
              "  "
            ]
          },
          "metadata": {},
          "execution_count": 36
        }
      ]
    },
    {
      "cell_type": "markdown",
      "source": [
        "### <font color=teal>Refazer o treino de máquina somente com as variáveis com correlação acima de '0', sendo positivas ou negativas"
      ],
      "metadata": {
        "id": "kRfAi651Y-xj"
      }
    },
    {
      "cell_type": "markdown",
      "source": [
        "**3° modelo: Criando o modelo e treinando com o modelo criado**"
      ],
      "metadata": {
        "id": "xfFcra74be6Z"
      }
    },
    {
      "cell_type": "code",
      "source": [
        "from sklearn.model_selection import train_test_split\n",
        "\n",
        "x3 = df2.drop(['preco_anuncio','areas', 'class_limpeza', 'attr index', 'attr index norm', 'rest index', 'rest index norm'], axis=1)\n",
        "y3 = df2['preco_anuncio']\n",
        "\n",
        "x_treino3, x_teste3, y_treino3, y_teste3 = train_test_split(x3,y3, test_size=0.3,\n",
        "                                                        random_state=350)"
      ],
      "metadata": {
        "id": "vy1MGOd0YOSR"
      },
      "execution_count": null,
      "outputs": []
    },
    {
      "cell_type": "code",
      "source": [
        "LR = LinearRegression()\n",
        "LR.fit(x_treino3, y_treino3)\n",
        "print('score de acerto do treino:',LR.score(x_treino3, y_treino3).round(2))"
      ],
      "metadata": {
        "colab": {
          "base_uri": "https://localhost:8080/"
        },
        "id": "NsCqWTkqZjGx",
        "outputId": "4be54196-e396-4a89-e9c2-f18189a5a4cf"
      },
      "execution_count": null,
      "outputs": [
        {
          "output_type": "stream",
          "name": "stdout",
          "text": [
            "score de acerto do treino: 0.69\n"
          ]
        }
      ]
    },
    {
      "cell_type": "markdown",
      "source": [
        "**Previsto de acerto do teste**"
      ],
      "metadata": {
        "id": "aMaXeGKNbmb0"
      }
    },
    {
      "cell_type": "code",
      "source": [
        "previsto3 = LR.predict(x_teste3)\n",
        "print('score de acerto do teste:',metrics.r2_score(y_teste3, previsto3).round(2))"
      ],
      "metadata": {
        "colab": {
          "base_uri": "https://localhost:8080/"
        },
        "id": "Es7UYm8oZ5jQ",
        "outputId": "0785c6bc-24c7-4950-86b1-4a8a61289dcc"
      },
      "execution_count": null,
      "outputs": [
        {
          "output_type": "stream",
          "name": "stdout",
          "text": [
            "score de acerto do teste: 0.66\n"
          ]
        }
      ]
    },
    {
      "cell_type": "code",
      "source": [
        "previsto_df3 = pd.DataFrame(previsto3)\n",
        "previsto_df3.head(7)"
      ],
      "metadata": {
        "colab": {
          "base_uri": "https://localhost:8080/",
          "height": 269
        },
        "id": "0NrKWunMaYFw",
        "outputId": "08cbd8c9-6ddb-4c52-f420-c966e1e8dc18"
      },
      "execution_count": null,
      "outputs": [
        {
          "output_type": "execute_result",
          "data": {
            "text/plain": [
              "          0\n",
              "0  7.031494\n",
              "1  5.793213\n",
              "2  5.937012\n",
              "3  5.361816\n",
              "4  6.453125\n",
              "5  6.512451\n",
              "6  6.097656"
            ],
            "text/html": [
              "\n",
              "  <div id=\"df-91792801-c595-4088-a3e8-08bae021f2f1\">\n",
              "    <div class=\"colab-df-container\">\n",
              "      <div>\n",
              "<style scoped>\n",
              "    .dataframe tbody tr th:only-of-type {\n",
              "        vertical-align: middle;\n",
              "    }\n",
              "\n",
              "    .dataframe tbody tr th {\n",
              "        vertical-align: top;\n",
              "    }\n",
              "\n",
              "    .dataframe thead th {\n",
              "        text-align: right;\n",
              "    }\n",
              "</style>\n",
              "<table border=\"1\" class=\"dataframe\">\n",
              "  <thead>\n",
              "    <tr style=\"text-align: right;\">\n",
              "      <th></th>\n",
              "      <th>0</th>\n",
              "    </tr>\n",
              "  </thead>\n",
              "  <tbody>\n",
              "    <tr>\n",
              "      <th>0</th>\n",
              "      <td>7.031494</td>\n",
              "    </tr>\n",
              "    <tr>\n",
              "      <th>1</th>\n",
              "      <td>5.793213</td>\n",
              "    </tr>\n",
              "    <tr>\n",
              "      <th>2</th>\n",
              "      <td>5.937012</td>\n",
              "    </tr>\n",
              "    <tr>\n",
              "      <th>3</th>\n",
              "      <td>5.361816</td>\n",
              "    </tr>\n",
              "    <tr>\n",
              "      <th>4</th>\n",
              "      <td>6.453125</td>\n",
              "    </tr>\n",
              "    <tr>\n",
              "      <th>5</th>\n",
              "      <td>6.512451</td>\n",
              "    </tr>\n",
              "    <tr>\n",
              "      <th>6</th>\n",
              "      <td>6.097656</td>\n",
              "    </tr>\n",
              "  </tbody>\n",
              "</table>\n",
              "</div>\n",
              "      <button class=\"colab-df-convert\" onclick=\"convertToInteractive('df-91792801-c595-4088-a3e8-08bae021f2f1')\"\n",
              "              title=\"Convert this dataframe to an interactive table.\"\n",
              "              style=\"display:none;\">\n",
              "        \n",
              "  <svg xmlns=\"http://www.w3.org/2000/svg\" height=\"24px\"viewBox=\"0 0 24 24\"\n",
              "       width=\"24px\">\n",
              "    <path d=\"M0 0h24v24H0V0z\" fill=\"none\"/>\n",
              "    <path d=\"M18.56 5.44l.94 2.06.94-2.06 2.06-.94-2.06-.94-.94-2.06-.94 2.06-2.06.94zm-11 1L8.5 8.5l.94-2.06 2.06-.94-2.06-.94L8.5 2.5l-.94 2.06-2.06.94zm10 10l.94 2.06.94-2.06 2.06-.94-2.06-.94-.94-2.06-.94 2.06-2.06.94z\"/><path d=\"M17.41 7.96l-1.37-1.37c-.4-.4-.92-.59-1.43-.59-.52 0-1.04.2-1.43.59L10.3 9.45l-7.72 7.72c-.78.78-.78 2.05 0 2.83L4 21.41c.39.39.9.59 1.41.59.51 0 1.02-.2 1.41-.59l7.78-7.78 2.81-2.81c.8-.78.8-2.07 0-2.86zM5.41 20L4 18.59l7.72-7.72 1.47 1.35L5.41 20z\"/>\n",
              "  </svg>\n",
              "      </button>\n",
              "      \n",
              "  <style>\n",
              "    .colab-df-container {\n",
              "      display:flex;\n",
              "      flex-wrap:wrap;\n",
              "      gap: 12px;\n",
              "    }\n",
              "\n",
              "    .colab-df-convert {\n",
              "      background-color: #E8F0FE;\n",
              "      border: none;\n",
              "      border-radius: 50%;\n",
              "      cursor: pointer;\n",
              "      display: none;\n",
              "      fill: #1967D2;\n",
              "      height: 32px;\n",
              "      padding: 0 0 0 0;\n",
              "      width: 32px;\n",
              "    }\n",
              "\n",
              "    .colab-df-convert:hover {\n",
              "      background-color: #E2EBFA;\n",
              "      box-shadow: 0px 1px 2px rgba(60, 64, 67, 0.3), 0px 1px 3px 1px rgba(60, 64, 67, 0.15);\n",
              "      fill: #174EA6;\n",
              "    }\n",
              "\n",
              "    [theme=dark] .colab-df-convert {\n",
              "      background-color: #3B4455;\n",
              "      fill: #D2E3FC;\n",
              "    }\n",
              "\n",
              "    [theme=dark] .colab-df-convert:hover {\n",
              "      background-color: #434B5C;\n",
              "      box-shadow: 0px 1px 3px 1px rgba(0, 0, 0, 0.15);\n",
              "      filter: drop-shadow(0px 1px 2px rgba(0, 0, 0, 0.3));\n",
              "      fill: #FFFFFF;\n",
              "    }\n",
              "  </style>\n",
              "\n",
              "      <script>\n",
              "        const buttonEl =\n",
              "          document.querySelector('#df-91792801-c595-4088-a3e8-08bae021f2f1 button.colab-df-convert');\n",
              "        buttonEl.style.display =\n",
              "          google.colab.kernel.accessAllowed ? 'block' : 'none';\n",
              "\n",
              "        async function convertToInteractive(key) {\n",
              "          const element = document.querySelector('#df-91792801-c595-4088-a3e8-08bae021f2f1');\n",
              "          const dataTable =\n",
              "            await google.colab.kernel.invokeFunction('convertToInteractive',\n",
              "                                                     [key], {});\n",
              "          if (!dataTable) return;\n",
              "\n",
              "          const docLinkHtml = 'Like what you see? Visit the ' +\n",
              "            '<a target=\"_blank\" href=https://colab.research.google.com/notebooks/data_table.ipynb>data table notebook</a>'\n",
              "            + ' to learn more about interactive tables.';\n",
              "          element.innerHTML = '';\n",
              "          dataTable['output_type'] = 'display_data';\n",
              "          await google.colab.output.renderOutput(dataTable, element);\n",
              "          const docLink = document.createElement('div');\n",
              "          docLink.innerHTML = docLinkHtml;\n",
              "          element.appendChild(docLink);\n",
              "        }\n",
              "      </script>\n",
              "    </div>\n",
              "  </div>\n",
              "  "
            ]
          },
          "metadata": {},
          "execution_count": 40
        }
      ]
    },
    {
      "cell_type": "code",
      "source": [
        "np.expm1(6.097656)"
      ],
      "metadata": {
        "colab": {
          "base_uri": "https://localhost:8080/"
        },
        "id": "SRs3amXkbN6h",
        "outputId": "7e57d3e4-14ec-4750-b610-05e0195c7757"
      },
      "execution_count": null,
      "outputs": [
        {
          "output_type": "execute_result",
          "data": {
            "text/plain": [
              "443.81390335918934"
            ]
          },
          "metadata": {},
          "execution_count": 41
        }
      ]
    },
    {
      "cell_type": "markdown",
      "source": [
        "### statsmodels\n",
        "\n",
        ">Prob (**F-statistic**): acima 0.05 modelo rejeitado\n",
        "**P>|t|**: Acima 0.05 parametro ruim"
      ],
      "metadata": {
        "id": "Lh1gxGklb3C0"
      }
    },
    {
      "cell_type": "code",
      "source": [
        "import statsmodels.api as sm\n",
        "\n",
        "# Add uma 'constante' na variavel x_train\n",
        "contante = sm.add_constant(x_treino)"
      ],
      "metadata": {
        "colab": {
          "base_uri": "https://localhost:8080/"
        },
        "id": "n92-ARaxbURg",
        "outputId": "62d6d8b8-4556-4bec-d322-b1428ed0c97e"
      },
      "execution_count": null,
      "outputs": [
        {
          "output_type": "stream",
          "name": "stderr",
          "text": [
            "/usr/local/lib/python3.8/dist-packages/statsmodels/tsa/tsatools.py:142: FutureWarning: In a future version of pandas all arguments of concat except for the argument 'objs' will be keyword-only\n",
            "  x = pd.concat(x[::order], 1)\n"
          ]
        }
      ]
    },
    {
      "cell_type": "markdown",
      "source": [
        "> Statsmodel rejeito o modelo\n",
        "\n",
        "> Acusou algumas variáveis ruins"
      ],
      "metadata": {
        "id": "qNIl2NNyc9k8"
      }
    },
    {
      "cell_type": "code",
      "source": [
        "statsmodels = sm.OLS(y_treino, contante, hasconst=True).fit()\n",
        "statsmodels.summary()"
      ],
      "metadata": {
        "colab": {
          "base_uri": "https://localhost:8080/",
          "height": 892
        },
        "id": "MlM8bkdIb7xY",
        "outputId": "94cce65a-72da-4f28-d6a4-c33c85ea545f"
      },
      "execution_count": null,
      "outputs": [
        {
          "output_type": "execute_result",
          "data": {
            "text/plain": [
              "<class 'statsmodels.iolib.summary.Summary'>\n",
              "\"\"\"\n",
              "                            OLS Regression Results                            \n",
              "==============================================================================\n",
              "Dep. Variable:          preco_anuncio   R-squared:                       0.693\n",
              "Model:                            OLS   Adj. R-squared:                  0.686\n",
              "Method:                 Least Squares   F-statistic:                     100.2\n",
              "Date:                Wed, 22 Feb 2023   Prob (F-statistic):          3.38e-180\n",
              "Time:                        18:47:09   Log-Likelihood:                -145.97\n",
              "No. Observations:                 772   AIC:                             327.9\n",
              "Df Residuals:                     754   BIC:                             411.6\n",
              "Df Model:                          17                                         \n",
              "Covariance Type:            nonrobust                                         \n",
              "===============================================================================================\n",
              "                                  coef    std err          t      P>|t|      [0.025      0.975]\n",
              "-----------------------------------------------------------------------------------------------\n",
              "const                         354.4586    129.974      2.727      0.007      99.305     609.612\n",
              "quartoCompartilhado            70.4585     25.887      2.722      0.007      19.640     121.277\n",
              "quarto_privado                 70.5379     25.884      2.725      0.007      19.724     121.351\n",
              "num_pessoas                     0.7707      0.056     13.845      0.000       0.661       0.880\n",
              "host_superhost                 -0.0077      0.037     -0.209      0.834      -0.080       0.065\n",
              "multi_quartos                  -0.0667      0.036     -1.835      0.067      -0.138       0.005\n",
              "areas                          -0.0606      0.053     -1.139      0.255      -0.165       0.044\n",
              "class_limpeza                   0.1403      0.180      0.777      0.437      -0.214       0.495\n",
              "satisfacao                      0.6268      0.234      2.680      0.008       0.168       1.086\n",
              "quartos_dormir                  0.2659      0.044      6.086      0.000       0.180       0.352\n",
              "dist_centro                    -0.1822      0.099     -1.844      0.066      -0.376       0.012\n",
              "dist_metro                      0.0236      0.040      0.585      0.559      -0.055       0.103\n",
              "attr index                      5.0233      4.821      1.042      0.298      -4.442      14.488\n",
              "attr index norm                -5.0599      4.977     -1.017      0.310     -14.829       4.710\n",
              "rest index                     -7.1265      7.369     -0.967      0.334     -21.593       7.340\n",
              "rest index norm                 7.2913      7.494      0.973      0.331      -7.420      22.002\n",
              "long                            0.9228      1.814      0.509      0.611      -2.639       4.484\n",
              "latit                        -125.9915     46.488     -2.710      0.007    -217.254     -34.730\n",
              "tipo_quarto_Entire home/apt   151.0438     55.285      2.732      0.006      42.514     259.574\n",
              "tipo_quarto_Private room      101.7647     37.343      2.725      0.007      28.456     175.073\n",
              "tipo_quarto_Shared room       101.6501     37.346      2.722      0.007      28.335     174.965\n",
              "==============================================================================\n",
              "Omnibus:                       90.033   Durbin-Watson:                   2.074\n",
              "Prob(Omnibus):                  0.000   Jarque-Bera (JB):              171.194\n",
              "Skew:                           0.716   Prob(JB):                     6.69e-38\n",
              "Kurtosis:                       4.809   Cond. No.                     1.38e+17\n",
              "==============================================================================\n",
              "\n",
              "Notes:\n",
              "[1] Standard Errors assume that the covariance matrix of the errors is correctly specified.\n",
              "[2] The smallest eigenvalue is 5.17e-30. This might indicate that there are\n",
              "strong multicollinearity problems or that the design matrix is singular.\n",
              "\"\"\""
            ],
            "text/html": [
              "<table class=\"simpletable\">\n",
              "<caption>OLS Regression Results</caption>\n",
              "<tr>\n",
              "  <th>Dep. Variable:</th>      <td>preco_anuncio</td>  <th>  R-squared:         </th> <td>   0.693</td> \n",
              "</tr>\n",
              "<tr>\n",
              "  <th>Model:</th>                   <td>OLS</td>       <th>  Adj. R-squared:    </th> <td>   0.686</td> \n",
              "</tr>\n",
              "<tr>\n",
              "  <th>Method:</th>             <td>Least Squares</td>  <th>  F-statistic:       </th> <td>   100.2</td> \n",
              "</tr>\n",
              "<tr>\n",
              "  <th>Date:</th>             <td>Wed, 22 Feb 2023</td> <th>  Prob (F-statistic):</th> <td>3.38e-180</td>\n",
              "</tr>\n",
              "<tr>\n",
              "  <th>Time:</th>                 <td>18:47:09</td>     <th>  Log-Likelihood:    </th> <td> -145.97</td> \n",
              "</tr>\n",
              "<tr>\n",
              "  <th>No. Observations:</th>      <td>   772</td>      <th>  AIC:               </th> <td>   327.9</td> \n",
              "</tr>\n",
              "<tr>\n",
              "  <th>Df Residuals:</th>          <td>   754</td>      <th>  BIC:               </th> <td>   411.6</td> \n",
              "</tr>\n",
              "<tr>\n",
              "  <th>Df Model:</th>              <td>    17</td>      <th>                     </th>     <td> </td>    \n",
              "</tr>\n",
              "<tr>\n",
              "  <th>Covariance Type:</th>      <td>nonrobust</td>    <th>                     </th>     <td> </td>    \n",
              "</tr>\n",
              "</table>\n",
              "<table class=\"simpletable\">\n",
              "<tr>\n",
              "               <td></td>                  <th>coef</th>     <th>std err</th>      <th>t</th>      <th>P>|t|</th>  <th>[0.025</th>    <th>0.975]</th>  \n",
              "</tr>\n",
              "<tr>\n",
              "  <th>const</th>                       <td>  354.4586</td> <td>  129.974</td> <td>    2.727</td> <td> 0.007</td> <td>   99.305</td> <td>  609.612</td>\n",
              "</tr>\n",
              "<tr>\n",
              "  <th>quartoCompartilhado</th>         <td>   70.4585</td> <td>   25.887</td> <td>    2.722</td> <td> 0.007</td> <td>   19.640</td> <td>  121.277</td>\n",
              "</tr>\n",
              "<tr>\n",
              "  <th>quarto_privado</th>              <td>   70.5379</td> <td>   25.884</td> <td>    2.725</td> <td> 0.007</td> <td>   19.724</td> <td>  121.351</td>\n",
              "</tr>\n",
              "<tr>\n",
              "  <th>num_pessoas</th>                 <td>    0.7707</td> <td>    0.056</td> <td>   13.845</td> <td> 0.000</td> <td>    0.661</td> <td>    0.880</td>\n",
              "</tr>\n",
              "<tr>\n",
              "  <th>host_superhost</th>              <td>   -0.0077</td> <td>    0.037</td> <td>   -0.209</td> <td> 0.834</td> <td>   -0.080</td> <td>    0.065</td>\n",
              "</tr>\n",
              "<tr>\n",
              "  <th>multi_quartos</th>               <td>   -0.0667</td> <td>    0.036</td> <td>   -1.835</td> <td> 0.067</td> <td>   -0.138</td> <td>    0.005</td>\n",
              "</tr>\n",
              "<tr>\n",
              "  <th>areas</th>                       <td>   -0.0606</td> <td>    0.053</td> <td>   -1.139</td> <td> 0.255</td> <td>   -0.165</td> <td>    0.044</td>\n",
              "</tr>\n",
              "<tr>\n",
              "  <th>class_limpeza</th>               <td>    0.1403</td> <td>    0.180</td> <td>    0.777</td> <td> 0.437</td> <td>   -0.214</td> <td>    0.495</td>\n",
              "</tr>\n",
              "<tr>\n",
              "  <th>satisfacao</th>                  <td>    0.6268</td> <td>    0.234</td> <td>    2.680</td> <td> 0.008</td> <td>    0.168</td> <td>    1.086</td>\n",
              "</tr>\n",
              "<tr>\n",
              "  <th>quartos_dormir</th>              <td>    0.2659</td> <td>    0.044</td> <td>    6.086</td> <td> 0.000</td> <td>    0.180</td> <td>    0.352</td>\n",
              "</tr>\n",
              "<tr>\n",
              "  <th>dist_centro</th>                 <td>   -0.1822</td> <td>    0.099</td> <td>   -1.844</td> <td> 0.066</td> <td>   -0.376</td> <td>    0.012</td>\n",
              "</tr>\n",
              "<tr>\n",
              "  <th>dist_metro</th>                  <td>    0.0236</td> <td>    0.040</td> <td>    0.585</td> <td> 0.559</td> <td>   -0.055</td> <td>    0.103</td>\n",
              "</tr>\n",
              "<tr>\n",
              "  <th>attr index</th>                  <td>    5.0233</td> <td>    4.821</td> <td>    1.042</td> <td> 0.298</td> <td>   -4.442</td> <td>   14.488</td>\n",
              "</tr>\n",
              "<tr>\n",
              "  <th>attr index norm</th>             <td>   -5.0599</td> <td>    4.977</td> <td>   -1.017</td> <td> 0.310</td> <td>  -14.829</td> <td>    4.710</td>\n",
              "</tr>\n",
              "<tr>\n",
              "  <th>rest index</th>                  <td>   -7.1265</td> <td>    7.369</td> <td>   -0.967</td> <td> 0.334</td> <td>  -21.593</td> <td>    7.340</td>\n",
              "</tr>\n",
              "<tr>\n",
              "  <th>rest index norm</th>             <td>    7.2913</td> <td>    7.494</td> <td>    0.973</td> <td> 0.331</td> <td>   -7.420</td> <td>   22.002</td>\n",
              "</tr>\n",
              "<tr>\n",
              "  <th>long</th>                        <td>    0.9228</td> <td>    1.814</td> <td>    0.509</td> <td> 0.611</td> <td>   -2.639</td> <td>    4.484</td>\n",
              "</tr>\n",
              "<tr>\n",
              "  <th>latit</th>                       <td> -125.9915</td> <td>   46.488</td> <td>   -2.710</td> <td> 0.007</td> <td> -217.254</td> <td>  -34.730</td>\n",
              "</tr>\n",
              "<tr>\n",
              "  <th>tipo_quarto_Entire home/apt</th> <td>  151.0438</td> <td>   55.285</td> <td>    2.732</td> <td> 0.006</td> <td>   42.514</td> <td>  259.574</td>\n",
              "</tr>\n",
              "<tr>\n",
              "  <th>tipo_quarto_Private room</th>    <td>  101.7647</td> <td>   37.343</td> <td>    2.725</td> <td> 0.007</td> <td>   28.456</td> <td>  175.073</td>\n",
              "</tr>\n",
              "<tr>\n",
              "  <th>tipo_quarto_Shared room</th>     <td>  101.6501</td> <td>   37.346</td> <td>    2.722</td> <td> 0.007</td> <td>   28.335</td> <td>  174.965</td>\n",
              "</tr>\n",
              "</table>\n",
              "<table class=\"simpletable\">\n",
              "<tr>\n",
              "  <th>Omnibus:</th>       <td>90.033</td> <th>  Durbin-Watson:     </th> <td>   2.074</td>\n",
              "</tr>\n",
              "<tr>\n",
              "  <th>Prob(Omnibus):</th> <td> 0.000</td> <th>  Jarque-Bera (JB):  </th> <td> 171.194</td>\n",
              "</tr>\n",
              "<tr>\n",
              "  <th>Skew:</th>          <td> 0.716</td> <th>  Prob(JB):          </th> <td>6.69e-38</td>\n",
              "</tr>\n",
              "<tr>\n",
              "  <th>Kurtosis:</th>      <td> 4.809</td> <th>  Cond. No.          </th> <td>1.38e+17</td>\n",
              "</tr>\n",
              "</table><br/><br/>Notes:<br/>[1] Standard Errors assume that the covariance matrix of the errors is correctly specified.<br/>[2] The smallest eigenvalue is 5.17e-30. This might indicate that there are<br/>strong multicollinearity problems or that the design matrix is singular."
            ]
          },
          "metadata": {},
          "execution_count": 43
        }
      ]
    },
    {
      "cell_type": "markdown",
      "source": [
        "### <font color=purple>Último teste de Machine Learning baseado no StatsModels"
      ],
      "metadata": {
        "id": "q0xfMVTRdQeL"
      }
    },
    {
      "cell_type": "code",
      "source": [
        "from sklearn.model_selection import train_test_split\n",
        "\n",
        "x4 = df2.drop(['preco_anuncio','host_superhost', 'areas', 'class_limpeza', 'dist_centro', 'dist_metro', \n",
        "               'attr index', 'attr index norm','rest index','rest index norm','long'], axis=1)\n",
        "\n",
        "y4 = df2['preco_anuncio']\n",
        "\n",
        "x_treino4, x_teste4, y_treino4, y_teste4 = train_test_split(x4,y4, test_size=0.3,\n",
        "                                                        random_state=350)"
      ],
      "metadata": {
        "id": "oNXuNqBFcIAw"
      },
      "execution_count": null,
      "outputs": []
    },
    {
      "cell_type": "markdown",
      "source": [
        "**Modelo com os paramêtros do Statsmodels, foi melhor somente que o 2° modelo, o modelo sem transformação de dados**"
      ],
      "metadata": {
        "id": "HLC-lCGkfGTg"
      }
    },
    {
      "cell_type": "code",
      "source": [
        "LR = LinearRegression()\n",
        "LR.fit(x_treino4, y_treino4)\n",
        "print('score de acerto do treino:',LR.score(x_treino4, y_treino4).round(2))"
      ],
      "metadata": {
        "colab": {
          "base_uri": "https://localhost:8080/"
        },
        "id": "1hq43iqmed36",
        "outputId": "8b24f533-2bcf-4165-f375-f54318af5674"
      },
      "execution_count": null,
      "outputs": [
        {
          "output_type": "stream",
          "name": "stdout",
          "text": [
            "score de acerto do treino: 0.56\n"
          ]
        }
      ]
    },
    {
      "cell_type": "code",
      "source": [
        "previsto4 = LR.predict(x_teste4)\n",
        "print('score de acerto do teste:',metrics.r2_score(y_teste4, previsto4).round(2))"
      ],
      "metadata": {
        "colab": {
          "base_uri": "https://localhost:8080/"
        },
        "id": "y51VP2R_ejnx",
        "outputId": "afe41aa0-2ea6-4c06-cb13-d1ec4ef03a86"
      },
      "execution_count": null,
      "outputs": [
        {
          "output_type": "stream",
          "name": "stdout",
          "text": [
            "score de acerto do teste: 0.53\n"
          ]
        }
      ]
    }
  ]
}